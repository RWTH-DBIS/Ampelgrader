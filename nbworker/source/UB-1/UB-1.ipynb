{
 "cells": [
  {
   "cell_type": "markdown",
   "id": "1901a699-bb06-48a4-8adb-0d4108f5760c",
   "metadata": {
    "nbgrader": {
     "grade": false,
     "grade_id": "cell-351bc5b7ec4421bb",
     "locked": true,
     "schema_version": 3,
     "solution": false,
     "task": false
    },
    "papermill": {
     "duration": 0.003448,
     "end_time": "2022-04-19T19:19:56.966466",
     "exception": false,
     "start_time": "2022-04-19T19:19:56.963018",
     "status": "completed"
    },
    "source_hidden": true,
    "tags": []
   },
   "source": [
    "<table style=\"width:100%; background-color:#FFFFFF\" align=\"left\">\n",
    " <tr>\n",
    "   <td style=\"text-align:left; background-color:#FFFFFF\">\n",
    "       <p>Prof. Dr. Stefan Decker <br>\n",
    "        M. Slupczynski, W. Fahl</p>\n",
    "        <p><strong>2023-04-18</strong></p>\n",
    "     </td>\n",
    "   <td style=\"text-align:right; background-color:#FFFFFF\">\n",
    "     <div>\n",
    "       <img src=\"https://git.rwth-aachen.de/i5/teaching/dbis-raw/-/raw/main/dbis-logo.png\" width=\"500\"/>\n",
    "     </div>\n",
    "    </td>\n",
    " </tr>\n",
    "</table>\n",
    "<div class=\"clearfix\"></div>\n",
    "<center>\n",
    "    <h1>Datenbanken und Informationssysteme (SoSe 2023) </h1>\n",
    "    <h1>Übung 1 - ER-Diagramme</h1>\n",
    "</center>\n",
    "\n",
    "<center>\n",
    "    <h4>Abgabe bis 2023-04-25 10:30 Uhr</h4>\n",
    "    <strong>Zu spät eingereichte Übungen werden nicht berücksichtigt.</strong>\n",
    "</center>"
   ]
  },
  {
   "cell_type": "markdown",
   "id": "34608a0e-9a3d-49cb-a7c7-594bb36a4a9d",
   "metadata": {
    "papermill": {
     "duration": 0.003722,
     "end_time": "2022-04-19T19:19:56.973426",
     "exception": false,
     "start_time": "2022-04-19T19:19:56.969704",
     "status": "completed"
    },
    "source_hidden": true,
    "tags": []
   },
   "source": [
    "<div class=\"hidden-print\"><hr />\n",
    "<h3> Wichtige Hinweise</h3>\n",
    "<ul>\n",
    "<li>Bei Nichtbeachtung dieser Hinweise wird die Abgabe mit 0 Punkten bewertet!</li>\n",
    "<li>Bitte reichen Sie Ihre Lösung nur in Dreier- oder Vierergruppen ein.</li>\n",
    "<li>Achten Sie auch darauf, dass Ihre Gruppe im Moodle korrekt eingerichtet ist.</li>\n",
    "<li>Bitte laden Sie Ihre schriftlichen Lösungen ins Moodle als ein zusammenhängendes PDF-Dokument hoch.</li>\n",
    "<li>Bitte laden Sie Ihre digitalen Lösungen mit diesem Notebook ins Moodle hoch.</li>\n",
    "<li>Bitte geben Sie Namen, Matrikelnummern und Moodle-Gruppennummer auf der schriftlichen Lösung an.</li>\n",
    "<li>Wird offensichtlich die gleiche Lösung von zwei Gruppen abgegeben, dann erhalten beide Gruppen 0 Punkte.</li>\n",
    "</ul></div>\n",
    "\n",
    "<strong>Die Lösung zu diesem Übungsblatt wird in den Übungen am 25. April vorgestellt. <br /> \n",
    "Bitte beachten Sie auch die aktuellen Ankündigungen im Moodle-Lernraum zur Vorlesung. </strong> <br />\n",
    "<em>* bezeichnet Bonusaufgaben.</em>\n",
    "<hr />"
   ]
  },
  {
   "cell_type": "markdown",
   "id": "00267100-3031-4965-8ec3-c0b184cd7805",
   "metadata": {
    "papermill": {
     "duration": 0.003235,
     "end_time": "2022-04-19T19:19:56.999878",
     "exception": false,
     "start_time": "2022-04-19T19:19:56.996643",
     "status": "completed"
    },
    "source_hidden": true,
    "tags": []
   },
   "source": [
    "[ER Diagramm Malwerkzeug](doku/Doku-ER.ipynb) - Einführung in das Malwerkzeug zum Erstellen von ER Diagrammen (ÜB0, ÜB1, ÜB2)"
   ]
  },
  {
   "cell_type": "markdown",
   "id": "71f0d408-879e-43d1-9908-83e1445a4e26",
   "metadata": {
    "tags": []
   },
   "source": [
    "### Nummer der Abgabegruppe:   [Hier bitte die Nummer der Abgabegruppe einfügen]\n",
    "Gruppenmitglieder: [Name, Matrikelnummer], [Name, Matrikelnummer], [Name, Matrikelnummer], [Name, Matrikelnummer]\n",
    "        "
   ]
  },
  {
   "cell_type": "markdown",
   "id": "3d5f7363-afe6-48ec-b3f1-954f7646b73a",
   "metadata": {
    "nbgrader": {
     "grade": false,
     "grade_id": "cell-6b89da5add9a9bc0",
     "locked": true,
     "schema_version": 3,
     "solution": false,
     "task": false
    }
   },
   "source": [
    "<div class=\"alert alert-warning hidden-print\">Vergessen Sie nicht, alle Gruppenmitglieder einzutragen! <br />\n",
    "Der Bearbeitungsmodus kann mit Doppelklick gestartet werden und mit Strg+Enter beendet werden.</div>\n",
    "<hr />"
   ]
  },
  {
   "cell_type": "markdown",
   "id": "7c7b3876-6772-49c2-b498-3ddffb7b5f6c",
   "metadata": {
    "nbgrader": {
     "grade": false,
     "grade_id": "cell-938d2b14bc3313ec",
     "locked": true,
     "schema_version": 3,
     "solution": false,
     "task": false
    },
    "tags": []
   },
   "source": [
    "<div class=\"alert alert-info hidden-print\">Die folgende Codezelle sollte zu Beginn der Bearbeitung der Übung ausgeführt werden. <br /> Am Ende sollte <b>\"OK, es kann los gehen!\"</b> stehen. Dies kann ein paar Minuten dauern.</div>"
   ]
  },
  {
   "cell_type": "code",
   "execution_count": null,
   "id": "26de2c81-5240-4e57-af71-72b63154270a",
   "metadata": {},
   "outputs": [],
   "source": [
    "%pip install \"dbis-er-diagram~=1.0.8,>=1.0.8\" dbis-exc-manager\n",
    "try:\n",
    "    # import libraries\n",
    "    from erdiagram import ER\n",
    "    from erdiagram import *\n",
    "    from excmanager.Task import Exercise, Task, SubTask\n",
    "    from IPython.display import display, HTML\n",
    "    # initialize task structure\n",
    "    exc = Exercise( 1 )\n",
    "    task1 = Task( exc, \"1.1\" )\n",
    "except Exception as e:\n",
    "    display(HTML(f\"<div class='alert alert-danger'><h2>Etwas ist beim import schief gelaufen:</h1>{e}</div>\"))\n",
    "else:\n",
    "    display(HTML(\"<div class='alert alert-success'><h1>OK, es kann los gehen!</h1></div>\"))"
   ]
  },
  {
   "cell_type": "markdown",
   "id": "81436ad5-2f1a-44a9-a5f4-667a53e39e4a",
   "metadata": {},
   "source": [
    "<hr />"
   ]
  },
  {
   "cell_type": "markdown",
   "id": "474103eb-259d-46ac-aab1-a82e8f0bec67",
   "metadata": {
    "nbgrader": {
     "grade": false,
     "grade_id": "cell-aab3e99c2333a8ae",
     "locked": true,
     "schema_version": 3,
     "solution": false,
     "task": false
    },
    "papermill": {
     "duration": 0.003113,
     "end_time": "2022-04-19T19:19:56.980516",
     "exception": false,
     "start_time": "2022-04-19T19:19:56.977403",
     "status": "completed"
    },
    "source_hidden": true,
    "tags": []
   },
   "source": [
    "<div class=\"pull-left\">\n",
    "\n",
    "## Aufgabe 1.1 - ER-Diagramm in 1:n Notation\n",
    "\n",
    "</div>\n",
    "\n",
    "<div class=\"pull-right\">\n",
    "\n",
    "### (20 Punkte)\n",
    "\n",
    "</div>"
   ]
  },
  {
   "cell_type": "markdown",
   "id": "68893c7f-6c50-4168-bb25-9d4a136f799c",
   "metadata": {
    "nbgrader": {
     "grade": false,
     "grade_id": "cell-1e0526b07b0df26e",
     "locked": true,
     "schema_version": 3,
     "solution": false,
     "task": false
    },
    "tags": []
   },
   "source": [
    "Folgende Anforderungen skizzieren ein Informationssystem zur Speicherung von Daten eines Freizeitparks.\n",
    "\n",
    "Erstellen Sie ein ER-Diagramm, das die unten genannten Teilanforderungen darstellt und führen Sie diese zum Schluss zusammen, um das gesamte System darzustellen.  \n",
    "Verwenden Sie für Kardinalitätsrestriktionen die **1 ∶ n-Notation**.\n",
    "\n",
    "Die Aufgabe wurde in Teilaufgaben geteilt, welche am Ende unter \"Zusammenfassung\" zu einem Gesamt-Graphen zusammengesetzt werden. Beim Implementieren der Aufgabe sollten Sie sicherstellen, dass Sie die `NotImplementedError` Exception kommentieren."
   ]
  },
  {
   "cell_type": "markdown",
   "id": "edf143cd-8d61-407f-8e38-7a8356960411",
   "metadata": {
    "nbgrader": {
     "grade": false,
     "grade_id": "cell-4a163cba0dca2162",
     "locked": true,
     "schema_version": 3,
     "solution": false,
     "task": false
    },
    "tags": []
   },
   "source": [
    "<div class=\"pull-left\">\n",
    "\n",
    "## Teilaufgabe 1.1 a)\n",
    "\n",
    "</div>\n",
    "\n",
    "<div class=\"pull-right\">\n",
    "\n",
    "### (2 Punkte)\n",
    "\n",
    "</div>"
   ]
  },
  {
   "cell_type": "markdown",
   "id": "07f1ed7b-aeaa-44b8-9f27-0f5168f75c23",
   "metadata": {
    "nbgrader": {
     "grade": false,
     "grade_id": "cell-57617dcacba69162",
     "locked": true,
     "schema_version": 3,
     "solution": false,
     "task": false
    },
    "tags": []
   },
   "source": [
    "In diesem System gibt es eine Entität namens `Freizeitpark`. Jedem `Freizeitpark` wird eine `Adresse` und ein eindeutiger `Name` zugewiesen.\n",
    "Außerdem besteht eine `Adresse` aus einer `Straße`, einer `Hausnummer` und einem `Ort`."
   ]
  },
  {
   "cell_type": "code",
   "execution_count": null,
   "id": "cc154948-5f7a-4fe2-827e-7383acc032c8",
   "metadata": {
    "nbgrader": {
     "grade": false,
     "grade_id": "cell-835eb118e5c023ca",
     "locked": false,
     "schema_version": 3,
     "solution": true,
     "task": false
    },
    "tags": []
   },
   "outputs": [],
   "source": [
    "subtask = SubTask( task1, \"a\", points = 2 )\n",
    "g = ER()\n",
    "\n",
    "# ============\n",
    "# Freizeitpark\n",
    "# ============\n",
    "# In diesem System gibt es eine Entität namens Freizeitpark. \n",
    "# Jedem Freizeitpark wird eine Adresse und ein eindeutiger Name zugewiesen.\n",
    "# Außerdem besteht eine Adresse aus einer Straße, einer Hausnummer und einem Ort.\n",
    "\n",
    "### BEGIN SOLUTION\n",
    "g.add_entity('Freizeitpark')\n",
    "g.add_attribute('Freizeitpark', 'Name', is_pk=True)\n",
    "g.add_attribute('Freizeitpark', 'Adresse', composed_of=[\"Straße\", \"Hausnummer\", \"Ort\"])\n",
    "### END SOLUTION\n",
    "\n",
    "### DIESEN TEIL NICHT VERÄNDERN, SONST GIBT ES 0 PUNKTE!\n",
    "g.display()\n",
    "assert len(g.get_entities()) == 1, f\"Es wird eine Entität erwartet. Ist: {len(g.get_entities())}\"\n",
    "assert len(g.get_attributes()) == 2, f\"Es werden zwei Attribute erwartet. Ist: {len(g.get_attributes())}\"\n",
    "\n",
    "subtask.setSolution(g.as_solution())\n",
    "subtask.setData(g)"
   ]
  },
  {
   "cell_type": "code",
   "execution_count": null,
   "id": "dd45e19f-5f00-4136-810c-288351f4d5f7",
   "metadata": {
    "nbgrader": {
     "grade": true,
     "grade_id": "cell-c5af6cb535a5e9d6",
     "locked": true,
     "points": 2,
     "schema_version": 3,
     "solution": false,
     "task": false
    },
    "tags": []
   },
   "outputs": [],
   "source": [
    "# Autograder, bitte ignorieren.\n",
    "### BEGIN HIDDEN TESTS\n",
    "task = exc.getTaskByLabel('1.1')\n",
    "\n",
    "# a)\n",
    "# get student submission\n",
    "subtask = task.getSubtaskByLabel(\"a\")\n",
    "subtask.points = 2\n",
    "submission = subtask.getData()\n",
    "\n",
    "# BEGIN Musterloesung\n",
    "solution = ER()\n",
    "solution.add_entity('Freizeitpark')\n",
    "solution.add_attribute('Freizeitpark', 'Name', is_pk=True)\n",
    "solution.add_attribute('Freizeitpark', 'Adresse', composed_of=[\"Straße\", \"Hausnummer\", \"Ort\"])\n",
    "# END Musterloesung\n",
    "\n",
    "display(HTML(\"<h3> TESTING 1.1 a) </h3>\") )\n",
    "\n",
    "score_compare, log = grade_submission(\n",
    "    solution,\n",
    "    submission,\n",
    "    score_missing_attribute_property = 0.5,\n",
    "    score_missing_composed_attribute = 0.25,\n",
    "    label_ratio_threshold=0.75\n",
    ")\n",
    "print(log)\n",
    "maxPoints = subtask.getPoints()\n",
    "score = min( maxPoints, max( 0, round( maxPoints - score_compare, 2 ) ) )\n",
    "print(\"------------------\")\n",
    "print(f\"score: {score}/{subtask.getPoints()}\")\n",
    "subtask.setScore(score)\n",
    "score\n",
    "### END HIDDEN TESTS"
   ]
  },
  {
   "cell_type": "markdown",
   "id": "dbc33eb4-7d2d-432b-84ae-293ed41b872c",
   "metadata": {
    "nbgrader": {
     "grade": false,
     "grade_id": "cell-8bfeeffa925db53c",
     "locked": true,
     "schema_version": 3,
     "solution": false,
     "task": false
    },
    "tags": []
   },
   "source": [
    "<div class=\"pull-left\">\n",
    "\n",
    "## Teilaufgabe 1.1 b)\n",
    "\n",
    "</div>\n",
    "\n",
    "<div class=\"pull-right\">\n",
    "\n",
    "### (3 Punkte)\n",
    "\n",
    "</div>"
   ]
  },
  {
   "cell_type": "markdown",
   "id": "cfe7b980-f514-4f8e-8696-653d1574093a",
   "metadata": {
    "nbgrader": {
     "grade": false,
     "grade_id": "cell-9bb324898039ef99",
     "locked": true,
     "schema_version": 3,
     "solution": false,
     "task": false
    },
    "tags": []
   },
   "source": [
    "In einem `Freizeitpark` können mehrere `Ticket`s verkauft werden. Mehrere `Ticket`s können von einem `Freizeitpark` verkauft werden. \n",
    "Ohne `Freizeitpark` kann es kein `Ticket` geben. Wenn der `Freizeitpark` vom System entfernt wird, müssen auch alle dazugehörigen `Ticket`s entfernt werden.\n",
    "Jedem `Ticket` ist ein `Datum`, ein `Preis` und eine eindeutige `BuchungsID` zugeordnet."
   ]
  },
  {
   "cell_type": "code",
   "execution_count": null,
   "id": "93b1c17a-70fa-4e8a-8096-dcc4b5cbdd60",
   "metadata": {
    "nbgrader": {
     "grade": false,
     "grade_id": "cell-bd5e50dc9b64ac19",
     "locked": false,
     "schema_version": 3,
     "solution": true,
     "task": false
    },
    "tags": []
   },
   "outputs": [],
   "source": [
    "subtask = SubTask( task1, \"b\", points = 3 )\n",
    "g = ER()\n",
    "\n",
    "# ============\n",
    "# Ticket\n",
    "# ============\n",
    "# In einem Freizeitpark können mehrere Tickets verkauft werden. Mehrere Tickets können von einem Freizeitpark verkauft werden. \n",
    "# Ohne Freizeitpark kann es kein Ticket geben. Wenn der Freizeitpark vom System entfernt wird, müssen auch alle dazugehörigen Tickets entfernt werden.\n",
    "# Jedem Ticket ist ein Datum, ein Preis und eine eindeutige BuchungsID zugeordnet.\n",
    "\n",
    "### BEGIN SOLUTION\n",
    "### END SOLUTION\n",
    "\n",
    "### DIESEN TEIL NICHT VERÄNDERN, SONST GIBT ES 0 PUNKTE!\n",
    "g.display()\n",
    "assert len(g.get_entities()) == 2, f\"Es werden zwei Entitäten erwartet. Ist: {len(g.get_entities())}\"\n",
    "assert len(g.get_attributes()) == 3, f\"Es werden drei Attribute erwartet. Ist: {len(g.get_attributes())}\"\n",
    "assert len(g.get_relations()) == 1, f\"Es wird eine Relation erwartet. Ist: {len(g.get_relations())}\"\n",
    "\n",
    "subtask.setSolution(g.as_solution())\n",
    "subtask.setData(g)"
   ]
  },
  {
   "cell_type": "code",
   "execution_count": null,
   "id": "63f0358d-8229-4a1d-a530-abfdbe635b93",
   "metadata": {
    "nbgrader": {
     "grade": true,
     "grade_id": "cell-f51713312ce1bf89",
     "locked": true,
     "points": 3,
     "schema_version": 3,
     "solution": false,
     "task": false
    },
    "tags": []
   },
   "outputs": [],
   "source": [
    "# Autograder, bitte ignorieren.\n",
    "### BEGIN HIDDEN TESTS\n",
    "task = exc.getTaskByLabel('1.1')\n",
    "\n",
    "# b)\n",
    "# get student submission\n",
    "subtask = task.getSubtaskByLabel(\"b\")\n",
    "subtask.points = 3\n",
    "submission = subtask.getData()\n",
    "\n",
    "# BEGIN Musterloesung\n",
    "solution = ER()\n",
    "solution.add_entity('Ticket', is_weak=True)\n",
    "solution.add_relation(\n",
    "    {\"Freizeitpark\": \"1\"},\n",
    "    \"verkauft\",\n",
    "    {\"Ticket\": {\"cardinality\": \"n\", \"is_weak\": True}},\n",
    ") \n",
    "solution.add_attribute('Ticket', 'Datum')\n",
    "solution.add_attribute('Ticket', 'BuchungsID', is_pk=True, is_weak=True)\n",
    "solution.add_attribute('Ticket', 'Preis')\n",
    "# END Musterloesung\n",
    "\n",
    "display(HTML(\"<h3> TESTING 1.1 b) </h3>\") )\n",
    "\n",
    "score_compare, log = grade_submission(\n",
    "    solution,\n",
    "    submission,\n",
    "    score_missing_entity = 2/3,\n",
    "    score_missing_attribute = 2/3,\n",
    "    score_missing_composed_attribute = 2/3,\n",
    "    score_missing_relation = 2/3,\n",
    "    score_missing_is_a = 2/3,\n",
    "    score_missing_attribute_property = 1/3\n",
    ")\n",
    "print(log)\n",
    "maxPoints = subtask.getPoints()\n",
    "score = min( maxPoints, max( 0, round( maxPoints - score_compare, 2 ) ) )\n",
    "print(\"------------------\")\n",
    "print(f\"score: {score}/{subtask.getPoints()}\")\n",
    "subtask.setScore(score)\n",
    "score\n",
    "### END HIDDEN TESTS"
   ]
  },
  {
   "cell_type": "markdown",
   "id": "d254698c-1c66-40ee-a2bd-792e74b4cafb",
   "metadata": {
    "nbgrader": {
     "grade": false,
     "grade_id": "cell-e60d85d47f02f251",
     "locked": true,
     "schema_version": 3,
     "solution": false,
     "task": false
    },
    "tags": []
   },
   "source": [
    "<div class=\"pull-left\">\n",
    "\n",
    "## Teilaufgabe 1.1 c)\n",
    "\n",
    "</div>\n",
    "\n",
    "<div class=\"pull-right\">\n",
    "\n",
    "### (4 Punkte)\n",
    "\n",
    "</div>"
   ]
  },
  {
   "cell_type": "markdown",
   "id": "73e000e3-8894-41de-afed-765a7f30cac0",
   "metadata": {
    "nbgrader": {
     "grade": false,
     "grade_id": "cell-a630a103968aab57",
     "locked": true,
     "schema_version": 3,
     "solution": false,
     "task": false
    },
    "tags": []
   },
   "source": [
    "Jeder `Freizeitpark` hat mehrere `Themenbereich`e.\n",
    "Jedem `Themenbereich` wird ein eindeutiges `Thema` zugewiesen.\n",
    "Jeder `Themenbereich` beinhaltet ein `Restaurant`. \n",
    "Außerdem kann ein `Themenbereich` mehrere `Attraktion`en beinhalten, also können einem `Themenbereich` mehrere `Attraktion`en zugeordnet werden."
   ]
  },
  {
   "cell_type": "code",
   "execution_count": null,
   "id": "169a615e-7e95-4e86-9a04-da227f72b8ad",
   "metadata": {
    "nbgrader": {
     "grade": false,
     "grade_id": "cell-7aabe27209c1eb36",
     "locked": false,
     "schema_version": 3,
     "solution": true,
     "task": false
    },
    "tags": []
   },
   "outputs": [],
   "source": [
    "subtask = SubTask( task1, \"c\", points = 4 )\n",
    "g = ER()\n",
    "\n",
    "# ============\n",
    "# Themenbereich\n",
    "# ============\n",
    "# Jeder Freizeitpark hat mehrere Themenbereiche.\n",
    "# Jedem Themenbereich wird ein eindeutiges Thema zugewiesen.\n",
    "# Jeder Themenbereich beinhaltet ein Restaurant. \n",
    "# Außerdem kann ein Themenbereich mehrere Attraktionen beinhalten, also können einem Themenbereich mehrere Attraktionen zugeordnet werden.\n",
    "\n",
    "### BEGIN SOLUTION\n",
    "g.add_entity('Themenbereich')\n",
    "g.add_relation(\n",
    "    {\"Freizeitpark\": \"1\"},\n",
    "    \"hat\",\n",
    "    {\"Themenbereich\": \"n\"},\n",
    ")\n",
    "g.add_attribute('Themenbereich', 'Thema', is_pk=True) \n",
    "g.add_relation(\n",
    "    {\"Themenbereich\": \"1\"},\n",
    "    \"beinhaltet\",\n",
    "    {\"Restaurant\": \"1\",'Attraktion': \"n\"},\n",
    ")\n",
    "### END SOLUTION\n",
    "\n",
    "### DIESEN TEIL NICHT VERÄNDERN, SONST GIBT ES 0 PUNKTE!\n",
    "g.display()\n",
    "assert len(g.get_entities()) == 4, f\"Es werden vier Entitäten erwartet. Ist: {len(g.get_entities())}\"\n",
    "assert len(g.get_attributes()) == 1, f\"Es wird ein Attribut erwartet. Ist: {len(g.get_attributes())}\"\n",
    "assert len(g.get_relations()) == 2, f\"Es werden zwei Relationen erwartet. Ist: {len(g.get_relations())}\"\n",
    "\n",
    "subtask.setSolution(g.as_solution())\n",
    "subtask.setData(g)"
   ]
  },
  {
   "cell_type": "code",
   "execution_count": null,
   "id": "474338a1-8760-4bcc-a8a4-f56a987fbd32",
   "metadata": {
    "nbgrader": {
     "grade": true,
     "grade_id": "cell-4a56f286e5f197fa",
     "locked": true,
     "points": 4,
     "schema_version": 3,
     "solution": false,
     "task": false
    },
    "tags": []
   },
   "outputs": [],
   "source": [
    "# Autograder, bitte ignorieren.\n",
    "### BEGIN HIDDEN TESTS\n",
    "task = exc.getTaskByLabel('1.1')\n",
    "\n",
    "# c)\n",
    "# get student submission\n",
    "subtask = task.getSubtaskByLabel(\"c\")\n",
    "subtask.points = 4\n",
    "submission = subtask.getData()\n",
    "\n",
    "# BEGIN Musterloesung\n",
    "solution = ER()\n",
    "solution.add_entity('Themenbereich')\n",
    "solution.add_relation(\n",
    "    {\"Freizeitpark\": \"1\"},\n",
    "    \"hat\",\n",
    "    {\"Themenbereich\": \"n\"},\n",
    ")\n",
    "solution.add_attribute('Themenbereich', 'Thema', is_pk=True) \n",
    "solution.add_relation(\n",
    "    {\"Themenbereich\": \"1\"},\n",
    "    \"beinhaltet\",\n",
    "    {\"Restaurant\": \"1\",'Attraktion': \"n\"},\n",
    ")\n",
    "# END Musterloesung\n",
    "\n",
    "display(HTML(\"<h3> TESTING 1.1 c) </h3>\") )\n",
    "\n",
    "score_compare, log = grade_submission(\n",
    "    solution,\n",
    "    submission,\n",
    "    #score_missing_attribute_property = 1\n",
    ")\n",
    "print(log)\n",
    "maxPoints = subtask.getPoints()\n",
    "score = min( maxPoints, max( 0, round( maxPoints - score_compare, 2 ) ) )\n",
    "print(\"------------------\")\n",
    "print(f\"score: {score}/{subtask.getPoints()}\")\n",
    "subtask.setScore(score)\n",
    "score\n",
    "### END HIDDEN TESTS"
   ]
  },
  {
   "cell_type": "markdown",
   "id": "88eb2355-ee3f-44ea-a5e3-cd7758c0ba3d",
   "metadata": {
    "nbgrader": {
     "grade": false,
     "grade_id": "cell-306f7c3921f55c31",
     "locked": true,
     "schema_version": 3,
     "solution": false,
     "task": false
    },
    "tags": []
   },
   "source": [
    "<div class=\"pull-left\">\n",
    "\n",
    "## Teilaufgabe 1.1 d)\n",
    "\n",
    "</div>\n",
    "\n",
    "<div class=\"pull-right\">\n",
    "\n",
    "### (4 Punkte)\n",
    "\n",
    "</div>"
   ]
  },
  {
   "cell_type": "markdown",
   "id": "9dbfcd0e-5225-43a4-a0d5-36a00d0bb7b9",
   "metadata": {
    "nbgrader": {
     "grade": false,
     "grade_id": "cell-c9763faf83beed18",
     "locked": true,
     "schema_version": 3,
     "solution": false,
     "task": false
    },
    "tags": []
   },
   "source": [
    "Eine `Attraktion` kann entweder eine `Achterbahn`, ein `Hochfahrgeschäft`, eine `Themenfahrt` oder eine `Wasserfahrt` sein, andere Arten sind nicht vorgesehen. \n",
    "Eine `Attraktion` kann nicht gleichzeitig `Achterbahn` und `Hochfahrgeschäft` sein, also kann eine Attraktion nur eine Art Entität sein.\n",
    "Jeder `Attraktion` wird eine `Dauer`, eine `Altersgrenze`, mehrere `Stoßzeiten` und ein eindeutiger `Name` zugewiesen. "
   ]
  },
  {
   "cell_type": "code",
   "execution_count": null,
   "id": "56ec8233-1a66-4885-90ae-0d9fbad47cd5",
   "metadata": {
    "nbgrader": {
     "grade": false,
     "grade_id": "cell-61cc4d026908488b",
     "locked": false,
     "schema_version": 3,
     "solution": true,
     "task": false
    },
    "tags": []
   },
   "outputs": [],
   "source": [
    "subtask = SubTask( task1, \"d\", points = 4 )\n",
    "g = ER()\n",
    "\n",
    "# ============\n",
    "# Attraktion\n",
    "# ============\n",
    "# Eine Attraktion kann entweder eine Achterbahn, ein Hochfahrgeschäft, eine Themenfahrt oder eine Wasserfahrt sein, andere Arten sind nicht vorgesehen. \n",
    "# Eine Attraktion kann nicht gleichzeitig Achterbahn und Hochfahrgeschäft sein, also kann eine Attraktion nur eine Art Entität sein.\n",
    "# Jeder Attraktion wird eine Dauer, eine Altersgrenze, mehrere Stoßzeiten und ein eindeutiger Name zugewiesen. \n",
    "\n",
    "### BEGIN SOLUTION\n",
    "g.add_is_a(\"Attraktion\", [\"Achterbahn\", \"Wasserfahrt\", \"Themenfahrt\", \"Hochfahrgeschäft\"], is_total=True, is_disjunct=True)\n",
    "g.add_attribute('Attraktion', 'Dauer')\n",
    "g.add_attribute('Attraktion', 'Altersgrenze')\n",
    "g.add_attribute('Attraktion', 'Stoßzeit', is_multiple=True)\n",
    "g.add_attribute('Attraktion', 'Name', is_pk=True)\n",
    "### END SOLUTION\n",
    "\n",
    "### DIESEN TEIL NICHT VERÄNDERN, SONST GIBT ES 0 PUNKTE!\n",
    "g.display()\n",
    "assert len(g.get_entities()) == 5, f\"Es werden fünf Entitäten erwartet. Ist: {len(g.get_entities())}\"\n",
    "assert len(g.get_attributes()) == 4, f\"Es werden vier Attribute erwartet. Ist: {len(g.get_attributes())}\"\n",
    "\n",
    "subtask.setSolution(g.as_solution())\n",
    "subtask.setData(g)"
   ]
  },
  {
   "cell_type": "code",
   "execution_count": null,
   "id": "68fa3902-5e62-4520-8a3d-4003a348da20",
   "metadata": {
    "nbgrader": {
     "grade": true,
     "grade_id": "cell-b67dce5af1e39af0",
     "locked": true,
     "points": 4,
     "schema_version": 3,
     "solution": false,
     "task": false
    },
    "tags": []
   },
   "outputs": [],
   "source": [
    "# Autograder, bitte ignorieren.\n",
    "### BEGIN HIDDEN TESTS\n",
    "task = exc.getTaskByLabel('1.1')\n",
    "\n",
    "# d)\n",
    "# get student submission\n",
    "subtask = task.getSubtaskByLabel(\"d\")\n",
    "subtask.points = 4\n",
    "submission = subtask.getData()\n",
    "\n",
    "# BEGIN Musterloesung\n",
    "solution = ER()\n",
    "solution.add_is_a(\"Attraktion\", [\"Achterbahn\", \"Wasserfahrt\", \"Themenfahrt\", \"Hochfahrgeschäft\"], is_total=True, is_disjunct=True)\n",
    "solution.add_attribute('Attraktion', 'Dauer')\n",
    "solution.add_attribute('Attraktion', 'Altersgrenze')\n",
    "solution.add_attribute('Attraktion', 'Stoßzeit', is_multiple=True)\n",
    "solution.add_attribute('Attraktion', 'Name', is_pk=True)\n",
    "# END Musterloesung\n",
    "\n",
    "display(HTML(\"<h3> TESTING 1.1 d) </h3>\") )\n",
    "\n",
    "score_compare, log = grade_submission(\n",
    "    solution,\n",
    "    submission,\n",
    "    score_missing_attribute_property = 0.5\n",
    ")\n",
    "print(log)\n",
    "maxPoints = subtask.getPoints()\n",
    "score = min( maxPoints, max( 0, round( maxPoints - score_compare, 2 ) ) )\n",
    "print(\"------------------\")\n",
    "print(f\"score: {score}/{subtask.getPoints()}\")\n",
    "subtask.setScore(score)\n",
    "score\n",
    "### END HIDDEN TESTS"
   ]
  },
  {
   "cell_type": "markdown",
   "id": "d96cedd1-a351-4d55-8afa-55a92ccde0f9",
   "metadata": {
    "nbgrader": {
     "grade": false,
     "grade_id": "cell-de004fd665e42e8a",
     "locked": true,
     "schema_version": 3,
     "solution": false,
     "task": false
    },
    "tags": []
   },
   "source": [
    "<div class=\"pull-left\">\n",
    "\n",
    "## Teilaufgabe 1.1 e)\n",
    "\n",
    "</div>\n",
    "\n",
    "<div class=\"pull-right\">\n",
    "\n",
    "### (2 Punkte)\n",
    "\n",
    "</div>"
   ]
  },
  {
   "cell_type": "markdown",
   "id": "774eff44-5bb4-4752-99de-18e96d3f19d6",
   "metadata": {
    "nbgrader": {
     "grade": false,
     "grade_id": "cell-081c2d841c103b55",
     "locked": true,
     "schema_version": 3,
     "solution": false,
     "task": false
    },
    "tags": []
   },
   "source": [
    "Jeder `Themenbereich` organisiert mehrere `Show`s. \n",
    "Eine `Show` kann durch ihren `Titel` innerhalb eines `Themenbereich`s eindeutig identifiziert werden.\n",
    "Jede `Show` hat eine `Uhrzeit` und einen eindeutigen `Titel`.\n",
    "\n",
    "**Vorsicht**: Wenn gesagt wird, dass eine Entität innerhalb einer anderen eindeutig identifiziert werden kann, deutet es darauf hin, dass der Primärschlüssel... und die Entität... ist.\n"
   ]
  },
  {
   "cell_type": "code",
   "execution_count": null,
   "id": "d2551f27-c54f-4cc3-a624-a7656b43190e",
   "metadata": {
    "nbgrader": {
     "grade": false,
     "grade_id": "cell-906dc20638965a1b",
     "locked": false,
     "schema_version": 3,
     "solution": true,
     "task": false
    },
    "tags": []
   },
   "outputs": [],
   "source": [
    "subtask = SubTask( task1, \"e\", points = 2 )\n",
    "g = ER()\n",
    "\n",
    "# ============\n",
    "# Show\n",
    "# ============\n",
    "# Jeder Themenbereich organisiert mehrere Shows. \n",
    "# Eine Show kann durch ihren Titel innerhalb eines Themenbereichs eindeutig identifiziert werden.\n",
    "# Jede Show hat eine Uhrzeit und einen eindeutigen Titel.\n",
    "\n",
    "# Vorsicht: Wenn gesagt wird, dass eine Entität innerhalb einer anderen eindeutig identifiziert werden kann, deutet es darauf hin, dass der Primärschlüssel... und die Entität... ist.\n",
    "\n",
    "### BEGIN SOLUTION\n",
    "g.add_relation(\n",
    "    {\"Themenbereich\": \"1\"},\n",
    "    \"organisiert\",\n",
    "    {'Show': {\"cardinality\": \"n\", \"is_weak\": True}},\n",
    ")\n",
    "g.add_attribute('Show', 'Titel', is_pk=True, is_weak=True)\n",
    "g.add_attribute('Show', 'Uhrzeit')\n",
    "### END SOLUTION\n",
    "\n",
    "### DIESEN TEIL NICHT VERÄNDERN, SONST GIBT ES 0 PUNKTE!\n",
    "g.display()\n",
    "assert len(g.get_entities()) == 2, f\"Es werden zwei Entitäten erwartet. Ist: {len(g.get_entities())}\"\n",
    "assert len(g.get_attributes()) == 2, f\"Es werden zwei Attribute erwartet. Ist: {len(g.get_attributes())}\"\n",
    "assert len(g.get_relations()) == 1, f\"Es wird eine Relation erwartet. Ist: {len(g.get_relations())}\"\n",
    "\n",
    "\n",
    "subtask.setSolution(g.as_solution())\n",
    "subtask.setData(g)"
   ]
  },
  {
   "cell_type": "code",
   "execution_count": null,
   "id": "1df9e074-29a1-49be-8c8f-0bcf5f611a24",
   "metadata": {
    "nbgrader": {
     "grade": true,
     "grade_id": "cell-659f2779a9fa18ba",
     "locked": true,
     "points": 2,
     "schema_version": 3,
     "solution": false,
     "task": false
    },
    "tags": []
   },
   "outputs": [],
   "source": [
    "# Autograder, bitte ignorieren.\n",
    "### BEGIN HIDDEN TESTS\n",
    "task = exc.getTaskByLabel('1.1')\n",
    "\n",
    "# e)\n",
    "# get student submission\n",
    "subtask = task.getSubtaskByLabel(\"e\")\n",
    "subtask.points = 2\n",
    "submission = subtask.getData()\n",
    "\n",
    "# BEGIN Musterloesung\n",
    "solution = ER()\n",
    "solution.add_relation(\n",
    "    {\"Themenbereich\": \"1\"},\n",
    "    \"organisiert\",\n",
    "    {'Show': {\"cardinality\": \"n\", \"is_weak\": True}},\n",
    ")\n",
    "solution.add_attribute('Show', 'Titel', is_pk=True, is_weak=True)\n",
    "solution.add_attribute('Show', 'Uhrzeit')\n",
    "# END Musterloesung\n",
    "\n",
    "display(HTML(\"<h3> TESTING 1.1 e) </h3>\") )\n",
    "\n",
    "score_compare, log = grade_submission(\n",
    "    solution,\n",
    "    submission,\n",
    "    score_missing_attribute_property = 0.5\n",
    ")\n",
    "print(log)\n",
    "maxPoints = subtask.getPoints()\n",
    "score = min( maxPoints, max( 0, round( maxPoints - score_compare, 2 ) ) )\n",
    "print(\"------------------\")\n",
    "print(f\"score: {score}/{subtask.getPoints()}\")\n",
    "subtask.setScore(score)\n",
    "score\n",
    "### END HIDDEN TESTS"
   ]
  },
  {
   "cell_type": "markdown",
   "id": "549f0eca-0cee-41fc-b2f1-c2192aa20e14",
   "metadata": {
    "nbgrader": {
     "grade": false,
     "grade_id": "cell-2f18686cfc8dbff4",
     "locked": true,
     "schema_version": 3,
     "solution": false,
     "task": false
    },
    "tags": []
   },
   "source": [
    "<div class=\"pull-left\">\n",
    "\n",
    "## Teilaufgabe 1.1 f)\n",
    "\n",
    "</div>\n",
    "\n",
    "<div class=\"pull-right\">\n",
    "\n",
    "### (5 Punkte)\n",
    "\n",
    "</div>"
   ]
  },
  {
   "cell_type": "markdown",
   "id": "d5b5697d-281c-450a-84f6-b9358e7c6d4a",
   "metadata": {
    "nbgrader": {
     "grade": false,
     "grade_id": "cell-e93a71907b651153",
     "locked": true,
     "schema_version": 3,
     "solution": false,
     "task": false
    },
    "tags": []
   },
   "source": [
    "Mehrere `Mitarbeiter` werden von einem `Freizeitpark` angestellt.\n",
    "Für jeden `Mitarbeiter` werden ein `Gehalt`, ein `Geschlecht` und eine eindeutige `PersonalNummer` gespeichert. \n",
    "Ein `Mitarbeiter` verwaltet mehrere `Mitarbeiter`. \n",
    "Die meisten (jedoch nicht alle) der `Mitarbeiter` sind `Manager`, `Mechaniker`, `Animateur`, `Kaufmann` oder `Koch`. \n",
    "Die Arten von `Mitarbeitern` können sich nicht überschneiden. "
   ]
  },
  {
   "cell_type": "code",
   "execution_count": null,
   "id": "1dd31e65-0a38-48f2-9089-7116e927b1e7",
   "metadata": {
    "nbgrader": {
     "grade": false,
     "grade_id": "cell-df9a807b219bac32",
     "locked": false,
     "schema_version": 3,
     "solution": true,
     "task": false
    },
    "tags": []
   },
   "outputs": [],
   "source": [
    "subtask = SubTask( task1, \"f\", points = 5 )\n",
    "g = ER()\n",
    "\n",
    "# ============\n",
    "# Mitarbeiter\n",
    "# ============\n",
    "# Mehrere Mitarbeiter werden von einem Freizeitpark angestellt.\n",
    "# Für jeden Mitarbeiter werden ein Gehalt, ein Geschlecht und eine eindeutige PersonalNummer gespeichert. \n",
    "# Ein Mitarbeiter verwaltet mehrere Mitarbeitende. \n",
    "# Die meisten (jedoch nicht alle) der Mitarbeiter sind Manager, Mechaniker, Animateur, Kaufmann oder Koch. \n",
    "# Die Arten von Mitarbeitern können sich nicht überschneiden. \n",
    "\n",
    "### BEGIN SOLUTION\n",
    "g.add_relation(\n",
    "    {\"Freizeitpark\": \"1\"},\n",
    "    \"angestellt\",\n",
    "    {'Mitarbeiter': \"n\"},\n",
    ")\n",
    "g.add_attribute('Mitarbeiter', 'Gehalt')\n",
    "g.add_attribute('Mitarbeiter', 'Geschlecht')\n",
    "g.add_attribute('Mitarbeiter', 'PersonalNummer', is_pk=True)\n",
    "g.add_relation(\n",
    "    {\"Mitarbeiter\": \"1\"},\n",
    "    \"verwaltet\",\n",
    "    {'Mitarbeiter': \"n\"},\n",
    ")\n",
    "g.add_is_a(\"Mitarbeiter\", [\"Manager\", \"Mechaniker\", \"Animateur\", \"Kaufmann\", \"Koch\"], is_total=False, is_disjunct=True)\n",
    "### END SOLUTION\n",
    "\n",
    "### DIESEN TEIL NICHT VERÄNDERN, SONST GIBT ES 0 PUNKTE!\n",
    "g.display()\n",
    "assert len(g.get_entities()) == 7, f\"Es werden sieben Entitäten erwartet. Ist: {len(g.get_entities())}\"\n",
    "assert len(g.get_attributes()) == 3, f\"Es werden drei Attribute erwartet. Ist: {len(g.get_attributes())}\"\n",
    "assert len(g.get_relations()) == 2, f\"Es werden zwei Relationen erwartet. Ist: {len(g.get_relations())}\"\n",
    "\n",
    "\n",
    "subtask.setSolution(g.as_solution())\n",
    "subtask.setData(g)"
   ]
  },
  {
   "cell_type": "code",
   "execution_count": null,
   "id": "fd1f6de3-33c9-4cdb-a404-b32b2f2947c4",
   "metadata": {
    "nbgrader": {
     "grade": true,
     "grade_id": "cell-8c4f985817636eaf",
     "locked": true,
     "points": 5,
     "schema_version": 3,
     "solution": false,
     "task": false
    },
    "tags": []
   },
   "outputs": [],
   "source": [
    "# Autograder, bitte ignorieren.\n",
    "### BEGIN HIDDEN TESTS\n",
    "task = exc.getTaskByLabel('1.1')\n",
    "\n",
    "# f)\n",
    "# get student submission\n",
    "subtask = task.getSubtaskByLabel(\"f\")\n",
    "subtask.points = 5\n",
    "submission = subtask.getData()\n",
    "\n",
    "# BEGIN Musterloesung\n",
    "solution = ER()\n",
    "solution.add_relation(\n",
    "    {\"Freizeitpark\": \"1\"},\n",
    "    \"angestellt\",\n",
    "    {'Mitarbeiter': \"n\"},\n",
    ")\n",
    "solution.add_attribute('Mitarbeiter', 'Gehalt')\n",
    "solution.add_attribute('Mitarbeiter', 'Geschlecht')\n",
    "solution.add_attribute('Mitarbeiter', 'PersonalNummer', is_pk=True)\n",
    "solution.add_relation(\n",
    "    {\"Mitarbeiter\": \"1\"},\n",
    "    \"verwaltet\",\n",
    "    {'Mitarbeiter': \"n\"},\n",
    ")\n",
    "solution.add_is_a(\"Mitarbeiter\", [\"Manager\", \"Mechaniker\", \"Animateur\", \"Kaufmann\", \"Koch\"], is_total=False, is_disjunct=True)\n",
    "# END Musterloesung\n",
    "\n",
    "display(HTML(\"<h3> TESTING 1.1 f) </h3>\") )\n",
    "\n",
    "score_compare, log = grade_submission(\n",
    "    solution,\n",
    "    submission,\n",
    "    score_missing_attribute_property = 1/3\n",
    ")\n",
    "print(log)\n",
    "maxPoints = subtask.getPoints()\n",
    "score = min( maxPoints, max( 0, round( maxPoints - score_compare, 2 ) ) )\n",
    "print(\"------------------\")\n",
    "print(f\"score: {score}/{subtask.getPoints()}\")\n",
    "subtask.setScore(score)\n",
    "score\n",
    "### END HIDDEN TESTS"
   ]
  },
  {
   "cell_type": "markdown",
   "id": "522505c2-6c59-4be6-a6df-7a3d9077ae35",
   "metadata": {
    "nbgrader": {
     "grade": false,
     "grade_id": "cell-6ba46698943c0738",
     "locked": true,
     "schema_version": 3,
     "solution": false,
     "task": false
    },
    "tags": []
   },
   "source": [
    "---\n",
    "\n",
    "# Zusammenfassung\n",
    "\n",
    "Die folgende Codezelle erlaubt es, den gesamten Graphen, welcher aus den Teilaufgaben 1.1a) bis 1.1f) zusammengesetzt ist, zu sehen. Bitte benutzen Sie diese Codezelle, um Ihre Abgaben zu überprüfen.  \n",
    "Die Punktzahlangaben in dieser Codezelle dienen nur der Orientierung und geben die **maximal erreichbaren** Punkte an, nicht die tatsächlich erreichten. "
   ]
  },
  {
   "cell_type": "code",
   "execution_count": null,
   "id": "765e6ca9-ab77-44bb-aa2c-81b30d92279d",
   "metadata": {
    "nbgrader": {
     "grade": false,
     "grade_id": "cell-424fc20a0ab5d821",
     "locked": true,
     "schema_version": 3,
     "solution": false,
     "task": false
    },
    "tags": []
   },
   "outputs": [],
   "source": [
    "from erdiagram import merge_er_diagrams\n",
    "display(HTML(f\"<h2>Sammle Ergebnisse:</h2>\"))\n",
    "points = 0\n",
    "h = ER()\n",
    "maxPoints = exc.getTaskByLabel('1.1').getPoints()\n",
    "subtasks = exc.getTaskByLabel('1.1').getSubtasks()\n",
    "for i in subtasks:\n",
    "    display(HTML(f\"<div class='alert alert-info'><h4>Sammle Ergebnisse von Teilaufgabe '{subtasks[i].subtask}':</h4></div>\"))\n",
    "    try:\n",
    "        subTaskGraph = subtasks[i].getData()\n",
    "    except:\n",
    "        display(HTML(f\"<div class='alert alert-danger'>Oops! Teilaufgabe '{subtasks[i].subtask}' wurde nicht ordnungsgemäß ausgeführt.<br /> Überprüfen Sie die Assertions. </div>\"))\n",
    "        continue\n",
    "    else:\n",
    "        h = merge_er_diagrams(h, subTaskGraph)\n",
    "        points += subtasks[i].getPoints()\n",
    "        h.display()\n",
    "        \n",
    "        display(HTML(f\"<div class='alert alert-success'> ... OK (+max. {subtasks[i].getPoints()} Punkte) </div>\"))\n",
    "\n",
    "display(HTML(\"<hr />\"))\n",
    "h.display()\n",
    "display(HTML(f\"<div class='alert alert-success'><h3>Es wurden insgesamt Teilaufgaben für max. {points}/{maxPoints} Punkte gefunden.</h3></div>\"))"
   ]
  }
 ],
 "metadata": {
  "kernelspec": {
   "display_name": "Python 3 (ipykernel)",
   "language": "python",
   "name": "python3"
  },
  "language_info": {
   "codemirror_mode": {
    "name": "ipython",
    "version": 3
   },
   "file_extension": ".py",
   "mimetype": "text/x-python",
   "name": "python",
   "nbconvert_exporter": "python",
   "pygments_lexer": "ipython3",
   "version": "3.10.12"
  }
 },
 "nbformat": 4,
 "nbformat_minor": 5
}
