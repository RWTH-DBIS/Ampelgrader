{
 "cells": [
  {
   "cell_type": "markdown",
   "id": "1901a699-bb06-48a4-8adb-0d4108f5760c",
   "metadata": {
    "editable": true,
    "nbgrader": {
     "grade": false,
     "grade_id": "cell-351bc5b7ec4421bb",
     "locked": true,
     "schema_version": 3,
     "solution": false,
     "task": false
    },
    "papermill": {
     "duration": 0.003448,
     "end_time": "2022-04-19T19:19:56.966466",
     "exception": false,
     "start_time": "2022-04-19T19:19:56.963018",
     "status": "completed"
    },
    "slideshow": {
     "slide_type": ""
    },
    "source_hidden": true,
    "tags": []
   },
   "source": [
    "<table style=\"width:100%; background-color:#FFFFFF; color: black\" align=\"left\">\n",
    " <tr>\n",
    "   <td style=\"text-align:left; background-color:#FFFFFF\">\n",
    "       <p>Prof. Dr. Stefan Decker <br>\n",
    "        M. Slupczynski, L. Neumann, M. Kißgen, T. Holzheim</p>\n",
    "        <p><strong>11-04-2025</strong></p>\n",
    "     </td>\n",
    "   <td style=\"text-align:right; background-color:#FFFFFF\">\n",
    "     <div>\n",
    "       <img src=\"https://git.rwth-aachen.de/i5/teaching/dbis-raw/-/raw/main/dbis-logo.png\" width=\"500\"/>\n",
    "     </div>\n",
    "    </td>\n",
    " </tr>\n",
    "</table>\n",
    "<div class=\"clearfix\"></div>\n",
    "<center>\n",
    "    <h1>Datenbanken und Informationssysteme (SoSe 2025) </h1>\n",
    "    <h1>Übung 1 - ER-Diagramme</h1>\n",
    "</center>\n",
    "\n",
    "\n",
    "<center>\n",
    "    <h4>Abgabe bis 25-04-2025 14:15 Uhr</h4>\n",
    "    <strong>Zu spät eingereichte Übungen werden nicht berücksichtigt.</strong>\n",
    "</center>"
   ]
  },
  {
   "cell_type": "markdown",
   "id": "34608a0e-9a3d-49cb-a7c7-594bb36a4a9d",
   "metadata": {
    "nbgrader": {
     "grade": false,
     "grade_id": "cell-5dd889d94e28a5bc",
     "locked": true,
     "schema_version": 3,
     "solution": false,
     "task": false
    },
    "papermill": {
     "duration": 0.003722,
     "end_time": "2022-04-19T19:19:56.973426",
     "exception": false,
     "start_time": "2022-04-19T19:19:56.969704",
     "status": "completed"
    },
    "source_hidden": true,
    "tags": []
   },
   "source": [
    "<div class=\"hidden-print\"><hr />\n",
    "<h3> Wichtige Hinweise</h3>\n",
    "<ul>\n",
    "<li>Bei Nichtbeachtung dieser Hinweise wird die Abgabe mit 0 Punkten bewertet!</li>\n",
    "<li>Bitte laden Sie Ihre digitalen Lösungen mit diesem Notebook ins Moodle hoch.</li>\n",
    "<li>Bitte geben Sie Namen, Matrikelnummern auf der schriftlichen Lösung an.</li>\n",
    "</ul></div>\n",
    "\n",
    "<strong>Die Lösung zu diesem Übungsblatt wird in den Übungen am 25. April und 28. April vorgestellt. <br /> \n",
    "Bitte beachten Sie auch die aktuellen Ankündigungen im Moodle-Lernraum zur Vorlesung. </strong> <br />\n",
    "<em>* bezeichnet Bonusaufgaben.</em>\n",
    "<hr />"
   ]
  },
  {
   "cell_type": "markdown",
   "id": "00267100-3031-4965-8ec3-c0b184cd7805",
   "metadata": {
    "nbgrader": {
     "grade": false,
     "grade_id": "cell-280d1a247d0f32b4",
     "locked": true,
     "schema_version": 3,
     "solution": false,
     "task": false
    },
    "papermill": {
     "duration": 0.003235,
     "end_time": "2022-04-19T19:19:56.999878",
     "exception": false,
     "start_time": "2022-04-19T19:19:56.996643",
     "status": "completed"
    },
    "source_hidden": true,
    "tags": []
   },
   "source": [
    "<h3>Dokumentations-Notebook</h3>\n",
    "Wir empfehlen ihnen das zu dieser Übung zugehörige Dokumentations-Notebook zu lesen. Zusätzlich zur der Handhabung der verschiedenen verwendeten Tools werden dort zentrale Konzepte der Vorlesung noch einmal wiederholt. Sie finden das Notebook im <a href=\"https://moodle.rwth-aachen.de/course/view.php?id=48593\">Moodle Lernraum</a>."
   ]
  },
  {
   "cell_type": "markdown",
   "id": "8f38612e",
   "metadata": {
    "nbgrader": {
     "grade": false,
     "grade_id": "cell-ab9dab7287dd0b4c",
     "locked": true,
     "schema_version": 3,
     "solution": false,
     "task": false
    }
   },
   "source": [
    "<h3>Abgabegruppe</h3>\n",
    "Es ist möglich die Abgabe in Gruppen von bis zu fünf Personen zu bearbeiten. <strong>Jeder Gruppenteilnehmer muss für sich ein Notebook hochladen</strong>. Wenn Sie in einer Abgabegruppe arbeiten, dürfen die Notebooks der Gruppenteilnehmer den gleichen Inhalt aufweisen. Wenn Sie in einer Gruppe arbeiten, tragen Sie hier bitte alle Gruppenteilnehmer inklusive sich selbst ein. <strong>Eine inkonsistente Angabe von Gruppenmitgliedern bei den Teilnehmern führt im Zweifel zu 0 Punkten für alle Gruppenteilnehmer!</strong> Es ist möglich zwischen den Abgaben die Gruppen zu wechseln."
   ]
  },
  {
   "cell_type": "markdown",
   "id": "52d8429b",
   "metadata": {
    "tags": []
   },
   "source": [
    "<h4>Gruppenteilnehmer</h4>\n",
    "<ul>\n",
    "    <li>Name, Matr. Nr.</li>\n",
    "    <li>Name, Matr. Nr.</li>\n",
    "    <li>Name, Matr. Nr.</li>\n",
    "    <li>Name, Matr. Nr.</li>\n",
    "    <li>Name, Matr. Nr.</li>\n",
    "</ul>"
   ]
  },
  {
   "cell_type": "markdown",
   "id": "7c7b3876-6772-49c2-b498-3ddffb7b5f6c",
   "metadata": {
    "nbgrader": {
     "grade": false,
     "grade_id": "cell-938d2b14bc3313ec",
     "locked": true,
     "schema_version": 3,
     "solution": false,
     "task": false
    },
    "tags": []
   },
   "source": [
    "<div class=\"alert alert-info hidden-print\">Die folgende Codezelle sollte zu Beginn der Bearbeitung der Übung ausgeführt werden. <br /> Am Ende sollte <b>\"OK, es kann los gehen!\"</b> stehen. Dies kann ein paar Minuten dauern.</div>\n",
    "<div class=\"alert alert-danger\">\n",
    "    Sie sollten die weiteren Zellen erst ausführen, wenn <b>\"OK, es kann los gehen!\"</b> am Ende der Ausgabe der nächsten Zelle steht. <br /> Andere Ausgaben dieser Zelle können ignoriert werden. <br />\n",
    "</div>"
   ]
  },
  {
   "cell_type": "code",
   "execution_count": null,
   "id": "26de2c81-5240-4e57-af71-72b63154270a",
   "metadata": {
    "nbgrader": {
     "grade": false,
     "grade_id": "cell-76de06552a4e1ae2",
     "locked": true,
     "schema_version": 3,
     "solution": false,
     "task": false
    },
    "tags": []
   },
   "outputs": [],
   "source": [
    "%pip install \"dbis-er-diagram~=1.1.1\" \"dbis-exc-manager~=1.0.2\"\n",
    "import warnings\n",
    "try:\n",
    "    # import libraries\n",
    "    from erdiagram import ER\n",
    "    from erdiagram import *\n",
    "    from excmanager.Task import Exercise, Task, SubTask\n",
    "    from IPython.display import display, HTML\n",
    "    # initialize task structure\n",
    "    exc = Exercise( 1 )\n",
    "    task1 = Task( exc, \"1.1\" )\n",
    "    task2 = Task( exc, \"1.2\" )\n",
    "    tasks_ready = {\"1.1\": {}, \"1.2\": {}}\n",
    "except Exception as e:\n",
    "    display(HTML(f\"<div class='alert alert-danger'><h2>Etwas ist beim import schief gelaufen:</h1>{e}</div>\"))\n",
    "else:\n",
    "    display(HTML(\"<div class='alert alert-success'><h1>OK, es kann los gehen!</h1></div>\"))"
   ]
  },
  {
   "cell_type": "markdown",
   "id": "a18d74dc-8fca-4709-a7b1-475a5de53d3f",
   "metadata": {
    "nbgrader": {
     "grade": false,
     "grade_id": "cell-8d260953c2ccbe55",
     "locked": true,
     "schema_version": 3,
     "solution": false,
     "task": false
    },
    "tags": []
   },
   "source": [
    "<span style=\"page-break-before: always !important\">&nbsp;</span>\n",
    "<hr />"
   ]
  },
  {
   "cell_type": "markdown",
   "id": "474103eb-259d-46ac-aab1-a82e8f0bec67",
   "metadata": {
    "nbgrader": {
     "grade": false,
     "grade_id": "cell-aab3e99c2333a8ae",
     "locked": true,
     "schema_version": 3,
     "solution": false,
     "task": false
    },
    "papermill": {
     "duration": 0.003113,
     "end_time": "2022-04-19T19:19:56.980516",
     "exception": false,
     "start_time": "2022-04-19T19:19:56.977403",
     "status": "completed"
    },
    "source_hidden": true,
    "tags": []
   },
   "source": [
    "<div class=\"pull-left\">\n",
    "\n",
    "## Aufgabe 1.1  (ER-Diagramm in (min,max)-Notation)\n",
    "\n",
    "</div>\n",
    "\n",
    "<div class=\"pull-right\">\n",
    "\n",
    "### (15 Punkte)\n",
    "\n",
    "</div>"
   ]
  },
  {
   "cell_type": "markdown",
   "id": "68893c7f-6c50-4168-bb25-9d4a136f799c",
   "metadata": {
    "nbgrader": {
     "grade": false,
     "grade_id": "cell-1e0526b07b0df26e",
     "locked": true,
     "schema_version": 3,
     "solution": false,
     "task": false
    },
    "tags": []
   },
   "source": [
    "Folgende Anforderungen skizzieren die Komponenten eines Streaming-Dienst.\n",
    "\n",
    "Erstellen Sie ein ER-Diagramm, das die unten genannten Teilanforderungen darstellt.\n",
    "Verwenden Sie für Kardinalitätsrestriktionen die **(min,max)-Notation**.\n",
    "\n",
    "Beim Implementieren der Aufgabe sollten Sie sicherstellen, dass Sie die `NotImplementedError` Exception auskommentieren oder löschen.\n",
    "\n",
    "**Hinweis**: *Aus Gründen der besseren Lesbarkeit wird bei Personenbezeichnungen und personenbezogenen Hauptwörtern die männliche Form verwendet. Entsprechende Begriffe gelten im Sinne der Gleichbehandlung grundsätzlich für alle Geschlechter. Die verkürzte Sprachform beinhaltet keine Wertung. Benutzen Sie bitte die vorgegebenen und hervorgehobenen Entitäts- und Attributsnamen, um die automatische Korrektur zu ermöglichen.*"
   ]
  },
  {
   "cell_type": "markdown",
   "id": "edf143cd-8d61-407f-8e38-7a8356960411",
   "metadata": {
    "nbgrader": {
     "grade": false,
     "grade_id": "cell-4a163cba0dca2162",
     "locked": true,
     "schema_version": 3,
     "solution": false,
     "task": false
    },
    "tags": []
   },
   "source": [
    "<div class=\"pull-left\">\n",
    "\n",
    "## Teilaufgabe 1.1 a)\n",
    "\n",
    "</div>\n",
    "\n",
    "<div class=\"pull-right\">\n",
    "\n",
    "### (2 Punkte)\n",
    "\n",
    "</div>"
   ]
  },
  {
   "cell_type": "markdown",
   "id": "d368e3c3-a2a6-40ad-b9f4-3fbeb7c682cf",
   "metadata": {
    "nbgrader": {
     "grade": false,
     "grade_id": "cell-c780f18a4a5c0027",
     "locked": true,
     "schema_version": 3,
     "solution": false,
     "task": false
    },
    "tags": []
   },
   "source": [
    "Das System entsteht um den Entity-Typen `Streaming-Dienst`. Jeder Streaming-Dienst hat einen `Namen`, ein `Gründungsdatum` und ist über mehrere `Plattform`en (z. B. Smartphones, Tablets, Smart-TVs) aus erreichbar. Weiterhin werden Streaming-Dienste über eine `StreamingId` eindeutig identifiziert. Potenzielle Kunden können einen `Plan` buchen, welcher sich aus der `Art` des Abonnements (entweder regulär oder premium) sowie den `Turnus` (entweder monatlich oder jährlich) zusammensetzt."
   ]
  },
  {
   "cell_type": "code",
   "execution_count": null,
   "id": "cc154948-5f7a-4fe2-827e-7383acc032c8",
   "metadata": {
    "nbgrader": {
     "grade": false,
     "grade_id": "cell-50e55abfc73ffa6f",
     "locked": false,
     "schema_version": 3,
     "solution": true,
     "task": false
    },
    "tags": []
   },
   "outputs": [],
   "source": [
    "g = ER()\n",
    "\n",
    "### BEGIN SOLUTION\n",
    "g.add_entity(\"Streaming-Dienst\")\n",
    "g.add_attribute(\"Streaming-Dienst\", \"StreamingId\", is_pk=True)\n",
    "g.add_attribute(\"Streaming-Dienst\", \"Name\", is_pk=False)\n",
    "g.add_attribute(\"Streaming-Dienst\", \"Gründungsdatum\", is_pk=False)\n",
    "g.add_attribute(\"Streaming-Dienst\", \"Plattform\", is_pk=False, is_multiple=True)\n",
    "g.add_attribute(\"Streaming-Dienst\", \"Plan\", is_pk=False, composed_of=[\"Turnus\", \"Art\"])\n",
    "### END SOLUTION\n",
    "\n",
    "### DIESEN TEIL NICHT VERÄNDERN, SONST GIBT ES 0 PUNKTE!\n",
    "subtask = SubTask( task1, \"a\", points = 2 )\n",
    "g.display()\n",
    "\n",
    "# Syntaxcheck\n",
    "tasks_ready[subtask.task.task][subtask.subtask] = True\n",
    "\n",
    "if not len(g.get_entities()) == 1:\n",
    "    warnings.warn(f\"Es wird eine Entität erwartet. Ist: {len(g.get_entities())}\")\n",
    "    tasks_ready[subtask.task.task][subtask.subtask] = False\n",
    "\n",
    "if not len(g.get_attributes()) == 5:\n",
    "    warnings.warn(f\"Es werden fünf Attribute erwartet. Ist: {len(g.get_attributes())}\")\n",
    "    tasks_ready[subtask.task.task][subtask.subtask] = False\n",
    "\n",
    "subtask.setSolution(g.as_solution())\n",
    "subtask.setData(g)"
   ]
  },
  {
   "cell_type": "code",
   "execution_count": null,
   "id": "dd45e19f-5f00-4136-810c-288351f4d5f7",
   "metadata": {
    "nbgrader": {
     "grade": true,
     "grade_id": "cell-c5af6cb535a5e9d6",
     "locked": true,
     "points": 2,
     "schema_version": 3,
     "solution": false,
     "task": false
    },
    "tags": []
   },
   "outputs": [],
   "source": [
    "# Autograder, bitte ignorieren.\n",
    "### BEGIN HIDDEN TESTS\n",
    "#subexercise:Aufgabe 1\n",
    "task = exc.getTaskByLabel('1.1')\n",
    "\n",
    "# a)\n",
    "# get student submission\n",
    "subtask = task.getSubtaskByLabel(\"a\")\n",
    "subtask.points = 2\n",
    "submission = subtask.getData()\n",
    "\n",
    "# BEGIN Musterloesung\n",
    "solution = ER()\n",
    "solution.add_attribute(\"Streaming-Dienst\", \"StreamingId\", is_pk=True)\n",
    "solution.add_attribute(\"Streaming-Dienst\", \"Name\", is_pk=False)\n",
    "solution.add_attribute(\"Streaming-Dienst\", \"Gründungsdatum\", is_pk=False)\n",
    "solution.add_attribute(\"Streaming-Dienst\", \"Plattform\", is_pk=False, is_multiple=True)\n",
    "solution.add_attribute(\"Streaming-Dienst\", \"Plan\", is_pk=False, composed_of=[\"Turnus\", \"Art\"])\n",
    "# END Musterloesung\n",
    "\n",
    "display(HTML(\"<h3> TESTING 1.1 a) </h3>\") )\n",
    "\n",
    "score_compare, log = grade_submission(\n",
    "    solution,\n",
    "    submission,\n",
    "    score_missing_attribute_property = 0.5,\n",
    "    score_missing_composed_attribute = 0.25,\n",
    "    label_ratio_threshold=0.75\n",
    ")\n",
    "print(log)\n",
    "maxPoints = subtask.getPoints()\n",
    "score = min( maxPoints, max( 0, round( maxPoints - score_compare, 2 ) ) )\n",
    "#print(\"------------------\")\n",
    "print(f\"score: {score}/{subtask.getPoints()}\")\n",
    "subtask.setScore(score)\n",
    "score\n",
    "### END HIDDEN TESTS"
   ]
  },
  {
   "cell_type": "markdown",
   "id": "dbc33eb4-7d2d-432b-84ae-293ed41b872c",
   "metadata": {
    "nbgrader": {
     "grade": false,
     "grade_id": "cell-8bfeeffa925db53c",
     "locked": true,
     "schema_version": 3,
     "solution": false,
     "task": false
    },
    "tags": []
   },
   "source": [
    "<div class=\"pull-left\">\n",
    "\n",
    "## Teilaufgabe 1.1 b)\n",
    "\n",
    "</div>\n",
    "\n",
    "<div class=\"pull-right\">\n",
    "\n",
    "### (3 Punkte)\n",
    "\n",
    "</div>"
   ]
  },
  {
   "cell_type": "markdown",
   "id": "cfe7b980-f514-4f8e-8696-653d1574093a",
   "metadata": {
    "nbgrader": {
     "grade": false,
     "grade_id": "cell-9bb324898039ef99",
     "locked": true,
     "schema_version": 3,
     "solution": false,
     "task": false
    },
    "tags": []
   },
   "source": [
    "Nun ergänzen wir das System um `Inhalt`e, die von Streaming-Diensten für ihre Kunden `veröffentlicht` werden. Ein Inhalt besitzt einen `Titel`, ein `Genre`, eine `Altersfreigabe`, sowie eine eindeutige `InhaltId`. Die verschiedenen Inhalte können bei beliebig vielen Streaming-Diensten gleichzeitig veröffentlicht werden und sind stets für einen vorher bestimmten `Zeitraum` verfügbar. Weiterhin wird jeder Inhalt zwangsläufig veröffentlicht. In der Streaming-Industrie ist es immer der Fall, dass Dienste mindestens 100 verschiedene Inhalte veröffentlichen. Nach oben besteht jedoch keine Begrenzung."
   ]
  },
  {
   "cell_type": "code",
   "execution_count": null,
   "id": "93b1c17a-70fa-4e8a-8096-dcc4b5cbdd60",
   "metadata": {
    "nbgrader": {
     "grade": false,
     "grade_id": "cell-bd5e50dc9b64ac19",
     "locked": false,
     "schema_version": 3,
     "solution": true,
     "task": false
    },
    "tags": []
   },
   "outputs": [],
   "source": [
    "g = ER()\n",
    "\n",
    "### BEGIN SOLUTION\n",
    "g.add_entity(\"Inhalt\")\n",
    "g.add_attribute(\"Inhalt\", \"InhaltId\", is_pk=True)\n",
    "g.add_attribute(\"Inhalt\", \"Titel\", is_pk=False)\n",
    "g.add_attribute(\"Inhalt\", \"Altersfreigabe\", is_pk=False)\n",
    "g.add_attribute(\"Inhalt\", \"Genre\", is_pk=False)\n",
    "\n",
    "g.add_relation({\"Streaming-Dienst\": \"(100,n)\"}, \"veröffentlicht\", {\"Inhalt\": \"(1, n)\"})\n",
    "\n",
    "g.add_attribute(\"veröffentlicht\", \"Zeitraum\", is_pk=False)\n",
    "### END SOLUTION\n",
    "\n",
    "### DIESEN TEIL NICHT VERÄNDERN, SONST GIBT ES 0 PUNKTE!\n",
    "subtask = SubTask( task1, \"b\", points = 3 )\n",
    "g.display()\n",
    "\n",
    "# Syntaxcheck\n",
    "tasks_ready[subtask.task.task][subtask.subtask] = True\n",
    "\n",
    "if not len(g.get_entities()) == 2:\n",
    "    warnings.warn(f\"Es werden zwei Entitäten erwartet. Ist: {len(g.get_entities())}\")\n",
    "    tasks_ready[subtask.task.task][subtask.subtask] = False\n",
    "\n",
    "if not len(g.get_attributes()) == 5:\n",
    "    warnings.warn(f\"Es werden fünf Attribute erwartet. Ist: {len(g.get_attributes())}\")\n",
    "    tasks_ready[subtask.task.task][subtask.subtask] = False\n",
    "    \n",
    "if not len(g.get_relations()) == 1:\n",
    "    warnings.warn(f\"Es wird eine Relationen erwartet. Ist: {len(g.get_relations())}\")\n",
    "    tasks_ready[subtask.task.task][subtask.subtask] = False\n",
    "\n",
    "subtask.setSolution(g.as_solution())\n",
    "subtask.setData(g)"
   ]
  },
  {
   "cell_type": "code",
   "execution_count": null,
   "id": "63f0358d-8229-4a1d-a530-abfdbe635b93",
   "metadata": {
    "nbgrader": {
     "grade": true,
     "grade_id": "cell-f51713312ce1bf89",
     "locked": true,
     "points": 3,
     "schema_version": 3,
     "solution": false,
     "task": false
    },
    "tags": []
   },
   "outputs": [],
   "source": [
    "# Autograder, bitte ignorieren.\n",
    "### BEGIN HIDDEN TESTS\n",
    "#subexercise:Aufgabe 1\n",
    "task = exc.getTaskByLabel('1.1')\n",
    "\n",
    "# b)\n",
    "# get student submission\n",
    "subtask = task.getSubtaskByLabel(\"b\")\n",
    "subtask.points = 3\n",
    "submission = subtask.getData()\n",
    "\n",
    "# BEGIN Musterloesung\n",
    "solution = ER()\n",
    "solution.add_entity(\"Inhalt\")\n",
    "solution.add_attribute(\"Inhalt\", \"InhaltId\", is_pk=True)\n",
    "solution.add_attribute(\"Inhalt\", \"Titel\", is_pk=False)\n",
    "solution.add_attribute(\"Inhalt\", \"Altersfreigabe\", is_pk=False)\n",
    "solution.add_attribute(\"Inhalt\", \"Genre\", is_pk=False)\n",
    "\n",
    "solution.add_relation({\"Streaming-Dienst\": \"(100,n)\"}, \"veröffentlicht\", {\"Inhalt\": \"(1, n)\"})\n",
    "\n",
    "solution.add_attribute(\"veröffentlicht\", \"Zeitraum\", is_pk=False)\n",
    "# END Musterloesung\n",
    "\n",
    "display(HTML(\"<h3> TESTING 1.1 b) </h3>\") )\n",
    "\n",
    "score_compare, log = grade_submission(\n",
    "    solution,\n",
    "    submission,\n",
    "    score_missing_entity = 2/3,\n",
    "    score_missing_attribute = 2/3,\n",
    "    score_missing_composed_attribute = 2/3,\n",
    "    score_missing_relation = 2/3,\n",
    "    score_missing_is_a = 2/3,\n",
    "    score_missing_attribute_property = 1/3\n",
    ")\n",
    "print(log)\n",
    "maxPoints = subtask.getPoints()\n",
    "score = min( maxPoints, max( 0, round( maxPoints - score_compare, 2 ) ) )\n",
    "print(\"------------------\")\n",
    "print(f\"score: {score}/{subtask.getPoints()}\")\n",
    "subtask.setScore(score)\n",
    "score\n",
    "### END HIDDEN TESTS"
   ]
  },
  {
   "cell_type": "markdown",
   "id": "88eb2355-ee3f-44ea-a5e3-cd7758c0ba3d",
   "metadata": {
    "nbgrader": {
     "grade": false,
     "grade_id": "cell-306f7c3921f55c31",
     "locked": true,
     "schema_version": 3,
     "solution": false,
     "task": false
    },
    "tags": []
   },
   "source": [
    "<div class=\"pull-left\">\n",
    "\n",
    "## Teilaufgabe 1.1 c)\n",
    "\n",
    "</div>\n",
    "\n",
    "<div class=\"pull-right\">\n",
    "\n",
    "### (4 Punkte)\n",
    "\n",
    "</div>"
   ]
  },
  {
   "cell_type": "markdown",
   "id": "9dbfcd0e-5225-43a4-a0d5-36a00d0bb7b9",
   "metadata": {
    "nbgrader": {
     "grade": false,
     "grade_id": "cell-c9763faf83beed18",
     "locked": true,
     "schema_version": 3,
     "solution": false,
     "task": false
    },
    "tags": []
   },
   "source": [
    "Nun soll der Entity-Typ Inhalt spezialisiert werden.\n",
    "\n",
    "Zu den drei häufigsten veröffentlichen Inhalten gehören `Film`, `Serie`n sowie `Podcast`s. Generell existieren weitere Arten von Inhalten, welche von dem System jedoch nicht beachtet werden. Die genannten Inhalte sind strikt voneinander getrennt, somit kann es beispielsweise keinen Film geben, der gleichzeitig auch eine Serie ist. Ein Film wird künstlerisch und kreativ von einem einzigen `Direktor` geleitet. Eine Serie hingegen wird von mehreren `Autor`en geschrieben und besitzt das Datum der `Erstausstrahlung`. Der Podcast wird von einem `Host` geleitet.\n",
    "Eine Serie `besteht aus` mindestens 3 und maximale 200 `Episode`n, wobei jede Episode über eine eindeutige `EpisodenId` identifiziert wird. Des Weiteren verfügen Episoden über einen `Titel`, eine `Länge` und sind genau einer Serie zugeordnet. Um den Verlauf einer einzelnen Episode `verstehen` zu können, müssen alle bisherigen Episoden bekannt sein. Für die erste Episode einer Serien-Entity sind dies 0 Episoden, für die letzte Episode sind dies bis zu 199 Episoden. "
   ]
  },
  {
   "cell_type": "code",
   "execution_count": null,
   "id": "56ec8233-1a66-4885-90ae-0d9fbad47cd5",
   "metadata": {
    "nbgrader": {
     "grade": false,
     "grade_id": "cell-61cc4d026908488b",
     "locked": false,
     "schema_version": 3,
     "solution": true,
     "task": false
    },
    "tags": []
   },
   "outputs": [],
   "source": [
    "g = ER()\n",
    "\n",
    "### BEGIN SOLUTION\n",
    "g.add_entity(\"Film\")\n",
    "g.add_entity(\"Serie\")\n",
    "g.add_entity(\"Podcast\")\n",
    "g.add_entity(\"Episode\")\n",
    "\n",
    "g.add_attribute(\"Film\", \"Direktor\", is_pk=False)\n",
    "g.add_attribute(\"Serie\", \"Autor\", is_pk=False, is_multiple=True)\n",
    "g.add_attribute(\"Serie\", \"Erstausstrahlung\", is_pk=False)\n",
    "g.add_attribute(\"Podcast\", \"Host\", is_pk=False)\n",
    "g.add_attribute(\"Episode\", \"EpisodenId\", is_pk=True)\n",
    "g.add_attribute(\"Episode\", \"Titel\", is_pk=False)\n",
    "g.add_attribute(\"Episode\", \"Länge\", is_pk=False)\n",
    "\n",
    "g.add_relation({\"Episode\": \"(0,199)\"}, \"verstehen\", {\"Episode\": \"(0,199)\"})\n",
    "g.add_relation({\"Serie\": \"(3, 200)\"}, \"besteht aus\", {\"Episode\": \"(1,1)\"})\n",
    "\n",
    "g.add_is_a(\"Inhalt\", [\"Serie\", \"Film\", \"Podcast\"], is_total=False, is_disjunct=True)\n",
    "### END SOLUTION\n",
    "\n",
    "### DIESEN TEIL NICHT VERÄNDERN, SONST GIBT ES 0 PUNKTE!\n",
    "subtask = SubTask( task1, \"c\", points = 4)\n",
    "g.display()\n",
    "\n",
    "# Syntaxcheck\n",
    "tasks_ready[subtask.task.task][subtask.subtask] = True\n",
    "\n",
    "if not len(g.get_entities()) == 5:\n",
    "    warnings.warn(f\"Es werden fünf Entitäten erwartet. Ist: {len(g.get_entities())}\")\n",
    "    tasks_ready[subtask.task.task][subtask.subtask] = False\n",
    "\n",
    "if not len(g.get_attributes()) == 7:\n",
    "    warnings.warn(f\"Es werden sieben Attribute erwartet. Ist: {len(g.get_attributes())}\")\n",
    "    tasks_ready[subtask.task.task][subtask.subtask] = False\n",
    "    \n",
    "if not len(g.get_relations()) == 2:\n",
    "    warnings.warn(f\"Es werden zwei Relationen erwartet. Ist: {len(g.get_relations())}\")\n",
    "    tasks_ready[subtask.task.task][subtask.subtask] = False\n",
    "\n",
    "subtask.setSolution(g.as_solution())\n",
    "subtask.setData(g)"
   ]
  },
  {
   "cell_type": "code",
   "execution_count": null,
   "id": "68fa3902-5e62-4520-8a3d-4003a348da20",
   "metadata": {
    "nbgrader": {
     "grade": true,
     "grade_id": "cell-b67dce5af1e39af0",
     "locked": true,
     "points": 4,
     "schema_version": 3,
     "solution": false,
     "task": false
    },
    "tags": []
   },
   "outputs": [],
   "source": [
    "# Autograder, bitte ignorieren.\n",
    "### BEGIN HIDDEN TESTS\n",
    "#subexercise:Aufgabe 1\n",
    "task = exc.getTaskByLabel('1.1')\n",
    "\n",
    "# c)\n",
    "# get student submission\n",
    "subtask = task.getSubtaskByLabel(\"c\")\n",
    "subtask.points = 4\n",
    "submission = subtask.getData()\n",
    "\n",
    "# BEGIN Musterloesung\n",
    "solution = ER()\n",
    "\n",
    "solution.add_entity(\"Film\")\n",
    "solution.add_entity(\"Serie\")\n",
    "solution.add_entity(\"Podcast\")\n",
    "solution.add_entity(\"Episode\")\n",
    "\n",
    "solution.add_attribute(\"Film\", \"Direktor\", is_pk=False)\n",
    "solution.add_attribute(\"Serie\", \"Autor\", is_pk=False, is_multiple=True)\n",
    "solution.add_attribute(\"Serie\", \"Erstausstrahlung\", is_pk=False)\n",
    "solution.add_attribute(\"Podcast\", \"Host\", is_pk=False)\n",
    "solution.add_attribute(\"Episode\", \"EpisodenId\", is_pk=True)\n",
    "solution.add_attribute(\"Episode\", \"Titel\", is_pk=False)\n",
    "solution.add_attribute(\"Episode\", \"Länge\", is_pk=False)\n",
    "\n",
    "solution.add_relation({\"Episode\": \"(0,199)\"}, \"verstehen\", {\"Episode\": \"(0,199)\"})\n",
    "solution.add_relation({\"Serie\": \"(3, 200)\"}, \"besteht aus\", {\"Episode\": \"(1,1)\"})\n",
    "\n",
    "solution.add_is_a(\"Inhalt\", [\"Serie\", \"Film\", \"Podcast\"], is_total=False, is_disjunct=True)\n",
    "# END Musterloesung\n",
    "\n",
    "display(HTML(\"<h3> TESTING 1.1 c) </h3>\") )\n",
    "\n",
    "score_compare, log = grade_submission(\n",
    "    solution,\n",
    "    submission,\n",
    "    score_missing_attribute_property = 0.5\n",
    ")\n",
    "\n",
    "print(log)\n",
    "maxPoints = subtask.getPoints()\n",
    "score = min( maxPoints, max( 0, round( maxPoints - score_compare, 2 ) ) )\n",
    "print(\"------------------\")\n",
    "print(f\"score: {score}/{subtask.getPoints()}\")\n",
    "subtask.setScore(score)\n",
    "score\n",
    "### END HIDDEN TESTS"
   ]
  },
  {
   "cell_type": "markdown",
   "id": "d96cedd1-a351-4d55-8afa-55a92ccde0f9",
   "metadata": {
    "nbgrader": {
     "grade": false,
     "grade_id": "cell-de004fd665e42e8a",
     "locked": true,
     "schema_version": 3,
     "solution": false,
     "task": false
    },
    "tags": []
   },
   "source": [
    "<div class=\"pull-left\">\n",
    "\n",
    "## Teilaufgabe 1.1 d)\n",
    "\n",
    "    \n",
    "    \n",
    "    \n",
    "</div>\n",
    "\n",
    "<div class=\"pull-right\">\n",
    "\n",
    "### (2 Punkte)\n",
    "\n",
    "</div>"
   ]
  },
  {
   "cell_type": "markdown",
   "id": "774eff44-5bb4-4752-99de-18e96d3f19d6",
   "metadata": {
    "nbgrader": {
     "grade": false,
     "grade_id": "cell-081c2d841c103b55",
     "locked": true,
     "schema_version": 3,
     "solution": false,
     "task": false
    },
    "tags": []
   },
   "source": [
    "Jeder Streaming-Dienst wird von mindestens einem `Benutzer` `verwendet`, der durch einen einzigartigen `Benutzername`n identifiziert wird. Jeder Benutzer hat einen `Name`n, der einem aus `Vorname`n und `Nachname`n besteht, sowie eine `E-Mail`-Adresse. Die Modellierung sieht voraus, dass Benutzer mindestens einen Streaming-Dienst verwenden."
   ]
  },
  {
   "cell_type": "code",
   "execution_count": null,
   "id": "d2551f27-c54f-4cc3-a624-a7656b43190e",
   "metadata": {
    "nbgrader": {
     "grade": false,
     "grade_id": "cell-906dc20638965a1b",
     "locked": false,
     "schema_version": 3,
     "solution": true,
     "task": false
    },
    "tags": []
   },
   "outputs": [],
   "source": [
    "g = ER()\n",
    "\n",
    "### BEGIN SOLUTION\n",
    "g.add_entity(\"Benutzer\")\n",
    "\n",
    "g.add_attribute(\"Benutzer\", \"Benutzername\", is_pk=True)\n",
    "g.add_attribute(\"Benutzer\", \"Name\", is_pk=False, composed_of=[\"Vorname\", \"Nachname\"])\n",
    "g.add_attribute(\"Benutzer\", \"E-Mail\", is_pk=False)\n",
    "\n",
    "g.add_relation({\"Benutzer\": \"(1,n)\"}, \"verwendet\", {\"Streaming-Dienst\": \"(1,n)\"})\n",
    "### END SOLUTION\n",
    "\n",
    "### DIESEN TEIL NICHT VERÄNDERN, SONST GIBT ES 0 PUNKTE!\n",
    "subtask = SubTask( task1, \"d\", points = 2 )\n",
    "g.display()\n",
    "\n",
    "# Syntaxcheck\n",
    "tasks_ready[subtask.task.task][subtask.subtask] = True\n",
    "\n",
    "if not len(g.get_entities()) == 2:\n",
    "    warnings.warn(f\"Es werden zwei Entitäten erwartet. Ist: {len(g.get_entities())}\")\n",
    "    tasks_ready[subtask.task.task][subtask.subtask] = False\n",
    "\n",
    "if not len(g.get_attributes()) == 3:\n",
    "    warnings.warn(f\"Es werden drei Attribute erwartet. Ist: {len(g.get_attributes())}\")\n",
    "    tasks_ready[subtask.task.task][subtask.subtask] = False\n",
    "    \n",
    "if not len(g.get_relations()) == 1:\n",
    "    warnings.warn(f\"Es wird eine Relation erwartet. Ist: {len(g.get_relations())}\")\n",
    "    tasks_ready[subtask.task.task][subtask.subtask] = False\n",
    "\n",
    "subtask.setSolution(g.as_solution())\n",
    "subtask.setData(g)"
   ]
  },
  {
   "cell_type": "code",
   "execution_count": null,
   "id": "1df9e074-29a1-49be-8c8f-0bcf5f611a24",
   "metadata": {
    "nbgrader": {
     "grade": true,
     "grade_id": "cell-659f2779a9fa18ba",
     "locked": true,
     "points": 2,
     "schema_version": 3,
     "solution": false,
     "task": false
    },
    "tags": []
   },
   "outputs": [],
   "source": [
    "# Autograder, bitte ignorieren.\n",
    "### BEGIN HIDDEN TESTS\n",
    "#subexercise:Aufgabe 1\n",
    "task = exc.getTaskByLabel('1.1')\n",
    "\n",
    "# d)\n",
    "# get student submission\n",
    "subtask = task.getSubtaskByLabel(\"d\")\n",
    "subtask.points = 2\n",
    "submission = subtask.getData()\n",
    "\n",
    "# BEGIN Musterloesung\n",
    "solution = ER()\n",
    "solution.add_entity(\"Benutzer\")\n",
    "\n",
    "solution.add_attribute(\"Benutzer\", \"Benutzername\", is_pk=True)\n",
    "solution.add_attribute(\"Benutzer\", \"Name\", is_pk=False, composed_of=[\"Vorname\", \"Nachname\"])\n",
    "solution.add_attribute(\"Benutzer\", \"E-Mail\", is_pk=False)\n",
    "\n",
    "solution.add_relation({\"Benutzer\": \"(1,n)\"}, \"verwendet\", {\"Streaming-Dienst\": \"(1,n)\"})\n",
    "# END Musterloesung\n",
    "\n",
    "display(HTML(\"<h3> TESTING 1.1 d) </h3>\") )\n",
    "\n",
    "score_compare, log = grade_submission(\n",
    "    solution,\n",
    "    submission,\n",
    "    score_missing_attribute_property = 0.5\n",
    ")\n",
    "print(log)\n",
    "maxPoints = subtask.getPoints()\n",
    "score = min( maxPoints, max( 0, round( maxPoints - score_compare, 2 ) ) )\n",
    "print(\"------------------\")\n",
    "print(f\"score: {score}/{subtask.getPoints()}\")\n",
    "subtask.setScore(score)\n",
    "score\n",
    "### END HIDDEN TESTS"
   ]
  },
  {
   "cell_type": "markdown",
   "id": "549f0eca-0cee-41fc-b2f1-c2192aa20e14",
   "metadata": {
    "nbgrader": {
     "grade": false,
     "grade_id": "cell-2f18686cfc8dbff4",
     "locked": true,
     "schema_version": 3,
     "solution": false,
     "task": false
    },
    "tags": []
   },
   "source": [
    "<div class=\"pull-left\">\n",
    "\n",
    "## Teilaufgabe 1.1 e)\n",
    "\n",
    "</div>\n",
    "\n",
    "<div class=\"pull-right\">\n",
    "\n",
    "### (4 Punkte)\n",
    "\n",
    "</div>"
   ]
  },
  {
   "cell_type": "markdown",
   "id": "d5b5697d-281c-450a-84f6-b9358e7c6d4a",
   "metadata": {
    "nbgrader": {
     "grade": false,
     "grade_id": "cell-e93a71907b651153",
     "locked": true,
     "schema_version": 3,
     "solution": false,
     "task": false
    },
    "tags": []
   },
   "source": [
    "Jeder Streaming-Dienst bietet dem Benutzer die Möglichkeit, `Liste`n aus Inhalten zu `erzeugen`. Beispielsweise können mehrere Inhalte desselben Genres so leicht organisiert werden. Jeder angebotene Inhalt kann auf beliebig vielen Listen `enthalten` sein, wobei jede Liste mindestens ein Inhalt enthalten muss. Listen verfügen über eine `Überschrift` und werden über eine `ListenId` eindeutig in einem Streaming-Dienst identifiziert. Ein bestimmter Benutzer kann beliebig viele Listen pro Streaming-Dienst erzeugen. Pro Streaming-Dienst können beliebig viele Listen erzeugt werden, wobei eine Liste genau einem Streaming-Dienst und erzeugenden Benutzer zugeordnet wird.\n",
    "\n",
    "**Vorsicht**: Wenn gesagt wird, dass eine Entität innerhalb einer anderen eindeutig identifiziert werden kann, überlegen Sie, was dies für die Existenz der abhängigen Entität bedeutet, insbesondere in diesem Kontext."
   ]
  },
  {
   "cell_type": "code",
   "execution_count": null,
   "id": "1dd31e65-0a38-48f2-9089-7116e927b1e7",
   "metadata": {
    "nbgrader": {
     "grade": false,
     "grade_id": "cell-df9a807b219bac32",
     "locked": false,
     "schema_version": 3,
     "solution": true,
     "task": false
    },
    "tags": []
   },
   "outputs": [],
   "source": [
    "g = ER()\n",
    "\n",
    "### BEGIN SOLUTION\n",
    "g.add_entity(\"Liste\", is_weak=True)\n",
    "\n",
    "g.add_attribute(\"Liste\", \"ListenId\", is_pk=True, is_weak=True)\n",
    "g.add_attribute(\"Liste\", \"Überschrift\", is_pk=False)\n",
    "\n",
    "g.add_relation({\"Liste\": \"(1,n)\"}, \"enthalten\",{\"Inhalt\": \"(0,n) \"})\n",
    "g.add_relation({\"Benutzer\": \"(0,n)\"}, \"erzeugen\", {\"Streaming-Dienst\": \"(0,n)\", \"Liste\": {\"cardinality\": \"(1,1)\", \"is_weak\": True}})\n",
    "### END SOLUTION\n",
    "\n",
    "### DIESEN TEIL NICHT VERÄNDERN, SONST GIBT ES 0 PUNKTE!\n",
    "subtask = SubTask( task1, \"e\", points = 4)\n",
    "g.display()\n",
    "\n",
    "# Syntaxcheck\n",
    "tasks_ready[subtask.task.task][subtask.subtask] = True\n",
    "\n",
    "if not len(g.get_entities()) == 4:\n",
    "    warnings.warn(f\"Es werden vier Entitäten erwartet. Ist: {len(g.get_entities())}\")\n",
    "    tasks_ready[subtask.task.task][subtask.subtask] = False\n",
    "\n",
    "if not len(g.get_attributes()) == 2:\n",
    "    warnings.warn(f\"Es werden zwei Attribute erwartet. Ist: {len(g.get_attributes())}\")\n",
    "    tasks_ready[subtask.task.task][subtask.subtask] = False\n",
    "    \n",
    "if not len(g.get_relations()) == 2:\n",
    "    warnings.warn(f\"Es werden zwei Relationen erwartet. Ist: {len(g.get_relations())}\")\n",
    "    tasks_ready[subtask.task.task][subtask.subtask] = False\n",
    "\n",
    "subtask.setSolution(g.as_solution())\n",
    "subtask.setData(g)"
   ]
  },
  {
   "cell_type": "code",
   "execution_count": null,
   "id": "fd1f6de3-33c9-4cdb-a404-b32b2f2947c4",
   "metadata": {
    "nbgrader": {
     "grade": true,
     "grade_id": "cell-8c4f985817636eaf",
     "locked": true,
     "points": 4,
     "schema_version": 3,
     "solution": false,
     "task": false
    },
    "tags": []
   },
   "outputs": [],
   "source": [
    "# Autograder, bitte ignorieren.\n",
    "### BEGIN HIDDEN TESTS\n",
    "task = exc.getTaskByLabel('1.1')\n",
    "\n",
    "# e)\n",
    "# get student submission\n",
    "#subexercise:Aufgabe 1\n",
    "subtask = task.getSubtaskByLabel(\"e\")\n",
    "subtask.points = 4\n",
    "submission = subtask.getData()\n",
    "\n",
    "# BEGIN Musterloesung\n",
    "solution = ER()\n",
    "solution.add_entity(\"Liste\", is_weak=True)\n",
    "\n",
    "solution.add_attribute(\"Liste\", \"ListenId\", is_pk=True, is_weak=True)\n",
    "solution.add_attribute(\"Liste\", \"Überschrift\", is_pk=False)\n",
    "\n",
    "solution.add_relation({\"Liste\": \"(1,n)\"}, \"enthalten\",{\"Inhalt\": \"(0,n) \"})\n",
    "solution.add_relation({\"Benutzer\": \"(0,n)\"}, \"erzeugen\", {\"Streaming-Dienst\": \"(0,n)\", \"Liste\": {\"cardinality\": \"(1,1)\", \"is_weak\": True}})\n",
    "\n",
    "# END Musterloesung\n",
    "\n",
    "display(HTML(\"<h3> TESTING 1.1 e) </h3>\") )\n",
    "\n",
    "score_compare, log = grade_submission(\n",
    "    solution,\n",
    "    submission,\n",
    "    score_missing_attribute_property = 1/3\n",
    ")\n",
    "print(log)\n",
    "maxPoints = subtask.getPoints()\n",
    "score = min( maxPoints, max( 0, round( maxPoints - score_compare, 2 ) ) )\n",
    "print(\"------------------\")\n",
    "print(f\"score: {score}/{subtask.getPoints()}\")\n",
    "subtask.setScore(score)\n",
    "score\n",
    "### END HIDDEN TESTS"
   ]
  },
  {
   "cell_type": "markdown",
   "id": "766296bc",
   "metadata": {
    "nbgrader": {
     "grade": false,
     "grade_id": "cell-e08f0eef533b20bd",
     "locked": true,
     "schema_version": 3,
     "solution": false,
     "task": false
    }
   },
   "source": [
    "<div class=\"pull-left\">\n",
    "\n",
    "<h2> Aufgabe 1.2 (Relationen und Generalisierung/Spezialisierung) </h2>\n",
    "\n",
    "</div>\n",
    "\n",
    "<div class=\"pull-right\">\n",
    "\n",
    "<h3> (5 Punkte) </h3>\n",
    "\n",
    "</div>"
   ]
  },
  {
   "cell_type": "markdown",
   "id": "6aeac9ab",
   "metadata": {
    "nbgrader": {
     "grade": false,
     "grade_id": "cell-d43dda63a619e2e9",
     "locked": true,
     "schema_version": 3,
     "solution": false,
     "task": false
    }
   },
   "source": [
    "Folgende Abbildungen zeigen eine Relation und eine Vererbungsbeziehung im Kontext des Musikladens.\n",
    "\n",
    "Beantworten Sie die jeweiligen Aufgaben, indem sie eine Menge an korrekten Antworten angeben, z.B. `{\"a\",\"b\"}`.\n",
    "\n",
    "Beim Implementieren der Aufgabe sollten Sie sicherstellen, dass Sie die `NotImplementedError` Exception auskommentieren oder löschen."
   ]
  },
  {
   "cell_type": "markdown",
   "id": "fcaafe78",
   "metadata": {
    "nbgrader": {
     "grade": false,
     "grade_id": "cell-35fd59b574c626b2",
     "locked": true,
     "schema_version": 3,
     "solution": false,
     "task": false
    }
   },
   "source": [
    "<div class=\"pull-left\">\n",
    "\n",
    "## Teilaufgabe 1.2 a)\n",
    "\n",
    "</div>\n",
    "\n",
    "<div class=\"pull-right\">\n",
    "\n",
    "### (3 Punkte)\n",
    "\n",
    "</div>"
   ]
  },
  {
   "cell_type": "markdown",
   "id": "eabf42ae-84f5-4b12-a276-f072738b6c1b",
   "metadata": {
    "nbgrader": {
     "grade": false,
     "grade_id": "cell-62d2a796e7b0ee87",
     "locked": true,
     "schema_version": 3,
     "solution": false,
     "task": false
    },
    "tags": []
   },
   "source": [
    "Gegeben sei folgende Relation zwischen `Benutzer`, `Streaming-Dienst` und `Inhalt` in der **min,max Notation**. Welche der untenstehenden Aussagen `{a, b, c, d, e}` sind wahr? Führen Sie den Code der Aufgabenstellung aus und geben Sie die richtigen Antworten in Menge `result_relation` an. Richtige Antworten geben einen Punkt, Falsche ziehen einen Punkt ab (bis minimal 0 Punkte)."
   ]
  },
  {
   "cell_type": "code",
   "execution_count": null,
   "id": "13060bd1-fc14-4b1d-a9c5-dcd99554ae6d",
   "metadata": {
    "nbgrader": {
     "grade": false,
     "grade_id": "cell-b681cef173686fa6",
     "locked": true,
     "schema_version": 3,
     "solution": false,
     "task": false
    },
    "tags": []
   },
   "outputs": [],
   "source": [
    "# Diese Code-Zelle ist Teil der Aufgabenstellung und sollte somit nicht verändert werden. \n",
    "\n",
    "graph = ER()\n",
    "graph.add_entity(\"Streaming-Dienst\")\n",
    "graph.add_entity(\"Inhalt\")\n",
    "graph.add_entity(\"Benutzer\")\n",
    "\n",
    "graph.add_relation({\"Benutzer\": \"(0,3)\"}, \"bewerten\", {\"Inhalt\": \"(0,7)\", \"Streaming-Dienst\": {\"cardinality\": \"(0,5)\"}})\n",
    "    \n",
    "graph.display()"
   ]
  },
  {
   "cell_type": "markdown",
   "id": "67759a69-8db4-4066-a8b3-1f1bba40821d",
   "metadata": {
    "nbgrader": {
     "grade": false,
     "grade_id": "cell-7a6e6a4b0d05a049",
     "locked": true,
     "schema_version": 3,
     "solution": false,
     "task": false
    },
    "tags": []
   },
   "source": [
    "**a.** Pro Streaming-Dienst kann ein bestimmter Benutzer nur maximal drei Inhalte bewerten. \n",
    "\n",
    "**b.** Insgesamt können beliebig viele Inhalte bewertet werden und beliebig viele Benutzer Inhalte bewerten.\n",
    "\n",
    "**c.** Ein Inhalt kann pro Streaming-Dienst maximal siebenmal bewertet werden. \n",
    "\n",
    "**d.** Ein bestimmter Benutzer kann den gleichen bisher unbewerteten Inhalt dreimal bewerten.\n",
    "\n",
    "**e.** Pro Streaming-Dienst können fünf Benutzer jeweils drei Inhalte bewerten."
   ]
  },
  {
   "cell_type": "code",
   "execution_count": null,
   "id": "6c888b85",
   "metadata": {
    "nbgrader": {
     "grade": false,
     "grade_id": "cell-8a7882ac06d2c826",
     "locked": false,
     "schema_version": 3,
     "solution": true,
     "task": false
    }
   },
   "outputs": [],
   "source": [
    "# result_relation ist hier eine String-Menge, z.B. result = {'a','b'}. Füllen sie die Menge unter dem Kommentar mit Ihrer Lösung.\n",
    "result_relation = {}\n",
    "\n",
    "### BEGIN SOLUTION\n",
    "result_relation = {'a', 'b', 'd'}\n",
    "### END SOLUTION\n",
    "\n",
    "### DIESEN TEIL NICHT VERÄNDERN, SONST GIBT ES 0 PUNKTE!\n",
    "subtask = SubTask(task2, \"a\", points = 3)\n",
    "\n",
    "# Syntaxcheck\n",
    "tasks_ready[subtask.task.task][subtask.subtask] = True\n",
    "subtask_ready = True    \n",
    "\n",
    "for element in result_relation:\n",
    "    if not isinstance(element, str):\n",
    "        warnings.warn(f\"Die Menge darf nur aus Strings bestehen.\")\n",
    "        subtask_ready = False\n",
    "        \n",
    "    if not element in [\"a\",\"b\",\"c\",\"d\",\"e\"]:\n",
    "        warnings.warn(f\"Die Menge darf nur die Antwortmöglichkeiten a,b,c,d,e enthalten.\")\n",
    "        subtask_ready = False\n",
    "\n",
    "tasks_ready[subtask.task.task][subtask.subtask] = subtask_ready\n",
    "        \n",
    "subtask.setSolution(result_relation)\n",
    "subtask.setData(result_relation)\n",
    "print(result_relation)"
   ]
  },
  {
   "cell_type": "code",
   "execution_count": null,
   "id": "d1628808",
   "metadata": {
    "nbgrader": {
     "grade": true,
     "grade_id": "cell-f33e45e6ecefef63",
     "locked": true,
     "points": 3,
     "schema_version": 3,
     "solution": false,
     "task": false
    },
    "tags": []
   },
   "outputs": [],
   "source": [
    "# Autograder, bitte ignorieren\n",
    "### BEGIN HIDDEN TESTS\n",
    "task = exc.getTaskByLabel('1.2')\n",
    "#subexercise:Aufgabe 2\n",
    "from excmanager.scorer import SetScorer, MultipleChoiceScorer\n",
    "\n",
    "subtask.points = 3\n",
    "\n",
    "correct_relation = {\n",
    "    'a',  # Richtig, da ein Benutzer max. 3x in \"bewertet\" vorkommen kann\n",
    "    'b',  # Richtig, da \"bewertet\" beliebig oft vorkommen kann\n",
    "    #'c', # Falsch,  da ein Streaming-Dienst max. 5x in \"bewertet\" vorkommen kann\n",
    "    'd'   # Richtig, da ein Benutzer max. 3x und ein Inhalt max. 7x in \"bewertet\" vorkommen kann\n",
    "    #'e', # Falsch,  da 5 Benutzer-Inhalt Paare mit dem Streaming-Dienst in Relation stehen können, aber\n",
    "          #          \"5 Benutzer mit jeweils 3 Inhalten\" sind bis zu 15 Paare.  \n",
    "}\n",
    "max_points = subtask.getPoints()\n",
    "scorer = MultipleChoiceScorer()\n",
    "score = scorer.evaluate_mctask(result_relation, correct_relation, max_points=3, toManyEquals0=False)\n",
    "score = round(score, 2)\n",
    "subtask.setScore(score)\n",
    "\n",
    "print(score,\"/\",max_points)\n",
    "score\n",
    "### END HIDDEN TESTS"
   ]
  },
  {
   "cell_type": "markdown",
   "id": "69c12743",
   "metadata": {
    "nbgrader": {
     "grade": false,
     "grade_id": "cell-6af0cc27d0ad54b2",
     "locked": true,
     "schema_version": 3,
     "solution": false,
     "task": false
    }
   },
   "source": [
    "<div class=\"pull-left\">\n",
    "\n",
    "## Teilaufgabe 1.2 b)\n",
    "\n",
    "</div>\n",
    "\n",
    "<div class=\"pull-right\">\n",
    "\n",
    "### (2 Punkte)\n",
    "\n",
    "</div>"
   ]
  },
  {
   "cell_type": "markdown",
   "id": "025383a3-2da4-4288-94f5-4f6625cc8b18",
   "metadata": {
    "nbgrader": {
     "grade": false,
     "grade_id": "cell-242291ba2f4ce68c",
     "locked": true,
     "schema_version": 3,
     "solution": false,
     "task": false
    },
    "tags": []
   },
   "source": [
    "Nun seien folgende Beziehungen für den `Podcast` gegeben. Welche der untenstehenden Aussagen `{a, b, c, d}` sind wahr? Führen Sie den Code der Aufgabenstellung aus und geben Sie die richtigen Antworten in Menge `result_relation` an. Richtige Antworten geben einen Punkt, Falsche ziehen einen Punkt ab (bis minimal 0 Punkte). "
   ]
  },
  {
   "cell_type": "code",
   "execution_count": null,
   "id": "8bf41310-b07d-4115-a360-96d0042afe1a",
   "metadata": {
    "nbgrader": {
     "grade": false,
     "grade_id": "cell-51ef6ea3f1cf9c6a",
     "locked": true,
     "schema_version": 3,
     "solution": false,
     "task": false
    },
    "tags": []
   },
   "outputs": [],
   "source": [
    "# Diese Code-Zelle ist Teil der Aufgabenstellung und sollte somit nicht verändert werden.\n",
    "\n",
    "graph = ER()\n",
    "graph.add_entity(\"Podcast\")\n",
    "graph.add_entity(\"Interview-Podcast\")\n",
    "graph.add_entity(\"Themen-Pocast\")\n",
    "graph.add_entity(\"Beruf und Karriere\")\n",
    "graph.add_entity(\"Kultur und Gesellschaft\")\n",
    "\n",
    "graph.add_is_a(\"Podcast\", [\"Interview-Podcast\", \"Themen-Pocast\"], is_total=False, is_disjunct=False)\n",
    "graph.add_is_a(\"Themen-Pocast\", [\"Beruf und Karriere\", \"Kultur und Gesellschaft\"], is_total=False, is_disjunct=True)\n",
    "\n",
    "graph.display()\n"
   ]
  },
  {
   "cell_type": "markdown",
   "id": "a497fde7-2fce-4d53-9e51-b7a8ba3a6170",
   "metadata": {
    "nbgrader": {
     "grade": false,
     "grade_id": "cell-4ef661aac7f17bb5",
     "locked": true,
     "schema_version": 3,
     "solution": false,
     "task": false
    },
    "tags": []
   },
   "source": [
    "**a.** Kein Interview-Podcast ist ein Beruf und Karriere Themen-Podcast.\n",
    "\n",
    "**b.** Ein bestimmter Kultur und Gesellschaft Themen-Podcast kann kein Beruf und Karriere Themen-Podcast sein. \n",
    "\n",
    "**c.** Ein bestimmter Podcast kann ein Interview-Podcast und Themen-Podcast sein.\n",
    "\n",
    "**d.** Es gibt nur Interview-Podcasts und Themen-Podcasts."
   ]
  },
  {
   "cell_type": "code",
   "execution_count": null,
   "id": "3e86107f",
   "metadata": {
    "nbgrader": {
     "grade": false,
     "grade_id": "cell-753a2822993958a2",
     "locked": false,
     "schema_version": 3,
     "solution": true,
     "task": false
    }
   },
   "outputs": [],
   "source": [
    "\n",
    "# result_is_a ist hier eine String-Menge, z.B. result = {'a','b'}. Füllen sie die Menge unter dem Kommentar mit Ihrer Lösung.\n",
    "result_is_a = {}\n",
    "\n",
    "### BEGIN SOLUTION\n",
    "result_is_a = {'b', 'c'}\n",
    "### END SOLUTION\n",
    "\n",
    "### DIESEN TEIL NICHT VERÄNDERN, SONST GIBT ES 0 PUNKTE!\n",
    "subtask = SubTask( task2, \"b\", points = 2 )\n",
    "\n",
    "# Syntaxcheck\n",
    "tasks_ready[subtask.task.task][subtask.subtask] = True\n",
    "subtask_ready = True    \n",
    "\n",
    "for element in result_is_a:\n",
    "    if not isinstance(element, str):\n",
    "        warnings.warn(f\"Die Menge darf nur aus Strings bestehen.\")\n",
    "        subtask_ready = False\n",
    "        \n",
    "    if not element in [\"a\",\"b\",\"c\",\"d\"]:\n",
    "        warnings.warn(f\"Die Menge darf nur die Antwortmöglichkeiten a,b,c,d enthalten.\")\n",
    "        subtask_ready = False\n",
    "\n",
    "tasks_ready[subtask.task.task][subtask.subtask] = subtask_ready\n",
    "\n",
    "subtask.setSolution(result_is_a)\n",
    "subtask.setData(result_is_a)\n",
    "print(result_is_a)"
   ]
  },
  {
   "cell_type": "code",
   "execution_count": null,
   "id": "3162bf16",
   "metadata": {
    "nbgrader": {
     "grade": true,
     "grade_id": "cell-e43bb4bc3706f929",
     "locked": true,
     "points": 2,
     "schema_version": 3,
     "solution": false,
     "task": false
    }
   },
   "outputs": [],
   "source": [
    "# Autograder, bitte ignorieren\n",
    "### BEGIN HIDDEN TESTS\n",
    "task = exc.getTaskByLabel('1.2')\n",
    "#subexercise:Aufgabe 2\n",
    "from excmanager.scorer import SetScorer, MultipleChoiceScorer\n",
    "\n",
    "subtask.points = 2\n",
    "\n",
    "correct_is_a = {'b', 'c'}\n",
    "max_points = subtask.getPoints()\n",
    "scorer = MultipleChoiceScorer()\n",
    "score = scorer.evaluate_mctask(result_is_a, correct_is_a, max_points=2, toManyEquals0=False)\n",
    "score = round(score, 2)\n",
    "subtask.setScore(score)\n",
    "\n",
    "print(score,\"/\",max_points)\n",
    "score\n",
    "### END HIDDEN TESTS"
   ]
  },
  {
   "cell_type": "markdown",
   "id": "388b230b-b364-4136-a928-5f1b0ba24fef",
   "metadata": {
    "nbgrader": {
     "grade": false,
     "grade_id": "cell-7811161240f3ca20",
     "locked": true,
     "schema_version": 3,
     "solution": false,
     "task": false
    }
   },
   "source": [
    "# Zusammenfassung\n",
    "\n",
    "Die Punktzahlangaben in dieser Codezelle dienen nur der Orientierung und geben die **maximal erreichbaren** Punkte an, nicht die tatsächlich erreichten."
   ]
  },
  {
   "cell_type": "code",
   "execution_count": null,
   "id": "91d5e924-4581-4b72-9df2-6dc07cebc40d",
   "metadata": {
    "nbgrader": {
     "grade": false,
     "grade_id": "cell-4cf59d54e6707b66",
     "locked": true,
     "schema_version": 3,
     "solution": false,
     "task": false
    },
    "tags": []
   },
   "outputs": [],
   "source": [
    "tasks = [\"1.1\", \"1.2\"]\n",
    "points = 0\n",
    "for t in tasks:\n",
    "    display(HTML(f\"<div class='alert alert-info'><h4>Sammle Ergebnisse von Teilaufgabe {t}:</h4></div>\"))\n",
    "\n",
    "    task = exc.getTaskByLabel(t)\n",
    "    subtasks = task.getSubtasks()\n",
    "    for i in subtasks:\n",
    "        display(HTML(f\"<div class='alert alert-info'><h4>Sammle Ergebnisse von Teilaufgabe {t}{subtasks[i].subtask}):</h4></div>\"))\n",
    "        try:\n",
    "            subTaskGraph = subtasks[i].getData()\n",
    "        except Exception as e:\n",
    "            display(HTML(f\"<div class='alert alert-danger'> Teilaufgabe {t}{subtasks[i].subtask}) wurde nicht ordnungsgemäß ausgeführt.<br /> Überprüfen Sie die Warnings. </div>\"))\n",
    "            continue\n",
    "        else:\n",
    "            if not tasks_ready[subtasks[i].task.task][subtasks[i].subtask]:\n",
    "                display(HTML(f\"<div class='alert alert-danger'> Teilaufgabe {t}{subtasks[i].subtask}) wurde nicht ordnungsgemäß ausgeführt.<br /> Überprüfen Sie die Warnings. </div>\"))\n",
    "                continue\n",
    "            points += subtasks[i].getPoints()\n",
    "            display(HTML(f\"<div class='alert alert-success'> ... BEARBEITET (+max. {subtasks[i].getPoints()} Punkte) </div>\"))\n",
    "\n",
    "display(HTML(f\"<div class='alert alert-success'><h3>Es wurden insgesamt Teilaufgaben für max. {points}/20 Punkte gefunden.</h3></div><hr />\"))"
   ]
  }
 ],
 "metadata": {
  "kernelspec": {
   "display_name": "Python 3 (ipykernel)",
   "language": "python",
   "name": "python3"
  },
  "language_info": {
   "codemirror_mode": {
    "name": "ipython",
    "version": 3
   },
   "file_extension": ".py",
   "mimetype": "text/x-python",
   "name": "python",
   "nbconvert_exporter": "python",
   "pygments_lexer": "ipython3",
   "version": "3.13.2"
  }
 },
 "nbformat": 4,
 "nbformat_minor": 5
}
